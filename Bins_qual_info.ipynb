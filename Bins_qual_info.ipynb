{
 "cells": [
  {
   "cell_type": "code",
   "execution_count": 1,
   "metadata": {},
   "outputs": [],
   "source": [
    "# import packages\n",
    "import matplotlib.pyplot as plt\n",
    "import pandas as pd\n",
    "import seaborn as sns \n",
    "import numpy as np\n",
    "import os\n",
    "import glob"
   ]
  },
  {
   "cell_type": "markdown",
   "metadata": {},
   "source": [
    "## Read BGI input"
   ]
  },
  {
   "cell_type": "code",
   "execution_count": 152,
   "metadata": {},
   "outputs": [
    {
     "data": {
      "text/plain": [
       "['V0O0SI.maxbin.CM1.results.tsv',\n",
       " 'V4OKLR.maxbin.CM1.results.tsv',\n",
       " 'VBCY6U.maxbin.CM1.results.tsv']"
      ]
     },
     "execution_count": 152,
     "metadata": {},
     "output_type": "execute_result"
    }
   ],
   "source": [
    "flistCM1 = [os.path.basename(x) for x in glob.glob('./input/das-tool/*CM1.results.tsv')]\n",
    "flistCM2 = [os.path.basename(x) for x in glob.glob('./input/das-tool/*CM2.results.tsv')]\n",
    "\n",
    "flistMx = [os.path.basename(x) for x in glob.glob('./input/*maxbin.CM1.results.tsv')]\n",
    "flistMb = [os.path.basename(x) for x in glob.glob('./input/*metabat.CM1.results.tsv')]\n",
    "flistVm = [os.path.basename(x) for x in glob.glob('./input/*vamb.CM1.results.tsv')]\n",
    "\n",
    "flistMx"
   ]
  },
  {
   "cell_type": "code",
   "execution_count": 153,
   "metadata": {},
   "outputs": [
    {
     "data": {
      "text/plain": [
       "['V0O0SI.metabat.CM1.results.tsv',\n",
       " 'VBCY6U.metabat.CM1.results.tsv',\n",
       " 'V4OKLR.metabat.CM1.results.tsv']"
      ]
     },
     "execution_count": 153,
     "metadata": {},
     "output_type": "execute_result"
    }
   ],
   "source": [
    "flistMb"
   ]
  },
  {
   "cell_type": "code",
   "execution_count": 154,
   "metadata": {},
   "outputs": [],
   "source": [
    "# Read and merge all CM files\n",
    "COLUMN_CM = ['vkood','CM','HQ', 'MQ', 'LQ']\n",
    "cmSTAT = pd.DataFrame(columns=COLUMN_CM)\n",
    "\n",
    "for smpl1 in flistCM1:\n",
    "    data = pd.read_csv('input/das-tool/'+smpl1, sep='\\t')\n",
    "\n",
    "    conditions = [(data['Completeness'] > 90) & (data['Contamination'] < 5),\n",
    "        (data['Completeness'] <= 90) & (data['Completeness'] >= 50) | \\\n",
    "        (data['Contamination'] >= 5) & (data['Contamination'] < 10),\n",
    "        (data['Completeness'] < 50) | (data['Contamination'] > 10)]\n",
    "\n",
    "    values = ['HQ', 'MQ', 'LQ']\n",
    "    data['Bin_qual'] = np.select(conditions, values)\n",
    "\n",
    "    cnt = data['Bin_qual'].value_counts()\n",
    "    cnt['vkood'] = smpl1[0:6]\n",
    "    cnt['CM'] = 'CM1.Das-tool'\n",
    "    cmSTAT = cmSTAT.append(cnt)\n",
    "    \n",
    "    \n",
    "for smpl2 in flistMb:\n",
    "    data = pd.read_csv('input/'+smpl2, sep='\\t')\n",
    "\n",
    "    conditions = [(data['Completeness'] > 90) & (data['Contamination'] < 5),\n",
    "        (data['Completeness'] <= 90) & (data['Completeness'] >= 50) | \\\n",
    "        (data['Contamination'] >= 5) & (data['Contamination'] < 10),\n",
    "        (data['Completeness'] < 50) | (data['Contamination'] > 10)]\n",
    "\n",
    "    values = ['HQ', 'MQ', 'LQ']\n",
    "    data['Bin_qual'] = np.select(conditions, values)\n",
    "\n",
    "    cnt = data['Bin_qual'].value_counts()\n",
    "    cnt['vkood'] = smpl2[0:6]\n",
    "    cnt['CM'] = 'CM1.Metabat'\n",
    "    cmSTAT = cmSTAT.append(cnt)\n",
    "    \n",
    "for smpl3 in flistMx:\n",
    "    data = pd.read_csv('input/'+smpl3, sep='\\t')\n",
    "\n",
    "    conditions = [(data['Completeness'] > 90) & (data['Contamination'] < 5),\n",
    "        (data['Completeness'] <= 90) & (data['Completeness'] >= 50) | \\\n",
    "        (data['Contamination'] >= 5) & (data['Contamination'] < 10),\n",
    "        (data['Completeness'] < 50) | (data['Contamination'] > 10)]\n",
    "\n",
    "    values = ['HQ', 'MQ', 'LQ']\n",
    "    data['Bin_qual'] = np.select(conditions, values)\n",
    "\n",
    "    cnt = data['Bin_qual'].value_counts()\n",
    "    cnt['vkood'] = smpl2[0:6]\n",
    "    cnt['CM'] = 'CM1.Maxbin'\n",
    "    cmSTAT = cmSTAT.append(cnt)\n",
    "    \n",
    "for smpl4 in flistVm:\n",
    "    data = pd.read_csv('input/'+smpl4, sep='\\t')\n",
    "\n",
    "    conditions = [(data['Completeness'] > 90) & (data['Contamination'] < 5),\n",
    "        (data['Completeness'] <= 90) & (data['Completeness'] >= 50) | \\\n",
    "        (data['Contamination'] >= 5) & (data['Contamination'] < 10),\n",
    "        (data['Completeness'] < 50) | (data['Contamination'] > 10)]\n",
    "\n",
    "    values = ['HQ', 'MQ', 'LQ']\n",
    "    data['Bin_qual'] = np.select(conditions, values)\n",
    "\n",
    "    cnt = data['Bin_qual'].value_counts()\n",
    "    cnt['vkood'] = smpl2[0:6]\n",
    "    cnt['CM'] = 'CM1.Vamb'\n",
    "    cmSTAT = cmSTAT.append(cnt)"
   ]
  },
  {
   "cell_type": "code",
   "execution_count": 157,
   "metadata": {},
   "outputs": [
    {
     "data": {
      "text/plain": [
       "array(['CM1.Das-tool', 'CM1.Metabat', 'CM1.Maxbin', 'CM1.Vamb'],\n",
       "      dtype=object)"
      ]
     },
     "execution_count": 157,
     "metadata": {},
     "output_type": "execute_result"
    }
   ],
   "source": [
    "cmSTAT['CM'].unique()"
   ]
  },
  {
   "cell_type": "code",
   "execution_count": 158,
   "metadata": {},
   "outputs": [
    {
     "data": {
      "text/html": [
       "<div>\n",
       "<style scoped>\n",
       "    .dataframe tbody tr th:only-of-type {\n",
       "        vertical-align: middle;\n",
       "    }\n",
       "\n",
       "    .dataframe tbody tr th {\n",
       "        vertical-align: top;\n",
       "    }\n",
       "\n",
       "    .dataframe thead th {\n",
       "        text-align: right;\n",
       "    }\n",
       "</style>\n",
       "<table border=\"1\" class=\"dataframe\">\n",
       "  <thead>\n",
       "    <tr style=\"text-align: right;\">\n",
       "      <th></th>\n",
       "      <th>vkood</th>\n",
       "      <th>CM</th>\n",
       "      <th>variable</th>\n",
       "      <th>value</th>\n",
       "    </tr>\n",
       "  </thead>\n",
       "  <tbody>\n",
       "    <tr>\n",
       "      <th>0</th>\n",
       "      <td>V40FOF</td>\n",
       "      <td>CM1.Das-tool</td>\n",
       "      <td>HQ</td>\n",
       "      <td>16</td>\n",
       "    </tr>\n",
       "    <tr>\n",
       "      <th>1</th>\n",
       "      <td>V61GT1</td>\n",
       "      <td>CM1.Das-tool</td>\n",
       "      <td>HQ</td>\n",
       "      <td>44</td>\n",
       "    </tr>\n",
       "  </tbody>\n",
       "</table>\n",
       "</div>"
      ],
      "text/plain": [
       "    vkood            CM variable value\n",
       "0  V40FOF  CM1.Das-tool       HQ    16\n",
       "1  V61GT1  CM1.Das-tool       HQ    44"
      ]
     },
     "execution_count": 158,
     "metadata": {},
     "output_type": "execute_result"
    }
   ],
   "source": [
    "mlt = pd.melt(cmSTAT, id_vars =['vkood','CM'], value_vars =['HQ','MQ','LQ'])\n",
    "mlt.head(2)"
   ]
  },
  {
   "cell_type": "code",
   "execution_count": 159,
   "metadata": {},
   "outputs": [
    {
     "data": {
      "image/png": "[encoded data removed]",
      "text/plain": [
       "<Figure size 576x432 with 1 Axes>"
      ]
     },
     "metadata": {
      "needs_background": "light"
     },
     "output_type": "display_data"
    }
   ],
   "source": [
    "plt.figure(figsize=(8, 6))\n",
    "my_pal = {\"CM1\": \"g\", \"CM2\": \"b\"}\n",
    "#plt.rcParams['axes.labelsize'] = 16\n",
    "\n",
    "#sns.boxplot(y=\"HQ\", x='vkood', data=cmSTAT, color='pink')\n",
    "ax = sns.boxplot(y=\"value\", x='variable', hue='CM', data=mlt, palette=\"Set3\")\n",
    "#ax = sns.swarmplot(y=\"value\", x='variable', hue='CM', data=mlt, palette=my_pal, dodge=True)\n",
    "plt.title(\"Estimating the number of bins based on CM1 vs CM2 results\"+'\\n', fontsize=16)\n",
    "plt.xlabel('\\n'+'Bins quality group', fontweight='bold')\n",
    "plt.ylabel('Bins number', fontweight='bold')\n",
    "ax.tick_params(labelsize = 18)\n",
    "\n",
    "plt.tight_layout()\n",
    "plt.savefig('results/Single_vs_Multi.svg')"
   ]
  },
  {
   "cell_type": "code",
   "execution_count": 160,
   "metadata": {},
   "outputs": [
    {
     "data": {
      "image/png": "[encoded data removed]",
      "text/plain": [
       "<Figure size 576x432 with 1 Axes>"
      ]
     },
     "metadata": {
      "needs_background": "light"
     },
     "output_type": "display_data"
    }
   ],
   "source": [
    "plt.figure(figsize=(8, 6))\n",
    "my_pal = {\"CM1.Das-tool\": \"g\", \"CM1.Maxbin\": \"b\", \"CM1.Metabat\": \"r\", \"CM1.Vamb\": \"orange\"}\n",
    "#plt.rcParams['axes.labelsize'] = 16\n",
    "\n",
    "#sns.boxplot(y=\"HQ\", x='vkood', data=cmSTAT, color='pink')\n",
    "ax = sns.boxplot(y=\"value\", x='variable', hue='CM', data=mlt, color=\"lightgrey\")\n",
    "ax = sns.swarmplot(y=\"value\", x='variable', hue='CM', data=mlt, palette=my_pal, dodge=True)\n",
    "plt.title(\"Estimating the number of bins based on CM1 vs CM2 results\"+'\\n', fontsize=16)\n",
    "plt.xlabel('\\n'+'Bins quality group', fontweight='bold')\n",
    "plt.ylabel('Bins number', fontweight='bold')\n",
    "ax.tick_params(labelsize = 18)\n",
    "\n",
    "plt.tight_layout()\n",
    "plt.savefig('results/Single_vs_Multi1.svg')"
   ]
  },
  {
   "cell_type": "code",
   "execution_count": null,
   "metadata": {},
   "outputs": [],
   "source": [
    "plt.figure(figsize=(8, 6))\n",
    "my_pal = {\"CM1.Das-tool\": \"g\", \"CM1.Maxbin\": \"b\", \"CM1.Metabat\": \"r\", \"CM1.Vamb\": \"orange\"}\n",
    "#plt.rcParams['axes.labelsize'] = 16\n",
    "\n",
    "#sns.boxplot(y=\"HQ\", x='vkood', data=cmSTAT, color='pink')\n",
    "ax = sns.boxplot(y=\"value\", x='variable', hue='CM', data=mlt, color=\"lightgrey\")\n",
    "ax = sns.swarmplot(y=\"value\", x='variable', hue='CM', data=mlt, palette=my_pal, dodge=True)\n",
    "plt.title(\"Estimating the number of bins based on CM1 vs CM2 results\"+'\\n', fontsize=16)\n",
    "plt.xlabel('\\n'+'Bins quality group', fontweight='bold')\n",
    "plt.ylabel('Bins number', fontweight='bold')\n",
    "ax.tick_params(labelsize = 18)\n",
    "\n",
    "plt.tight_layout()\n",
    "plt.savefig('results/Single_vs_Multi1.svg')"
   ]
  },
  {
   "cell_type": "code",
   "execution_count": 164,
   "metadata": {},
   "outputs": [
    {
     "data": {
      "text/html": [
       "<div>\n",
       "<style scoped>\n",
       "    .dataframe tbody tr th:only-of-type {\n",
       "        vertical-align: middle;\n",
       "    }\n",
       "\n",
       "    .dataframe tbody tr th {\n",
       "        vertical-align: top;\n",
       "    }\n",
       "\n",
       "    .dataframe thead th {\n",
       "        text-align: right;\n",
       "    }\n",
       "</style>\n",
       "<table border=\"1\" class=\"dataframe\">\n",
       "  <thead>\n",
       "    <tr style=\"text-align: right;\">\n",
       "      <th></th>\n",
       "      <th>vkood</th>\n",
       "      <th>CM</th>\n",
       "      <th>HQ</th>\n",
       "      <th>MQ</th>\n",
       "      <th>LQ</th>\n",
       "    </tr>\n",
       "  </thead>\n",
       "  <tbody>\n",
       "    <tr>\n",
       "      <th>Bin_qual</th>\n",
       "      <td>V40FOF</td>\n",
       "      <td>CM1.Das-tool</td>\n",
       "      <td>16</td>\n",
       "      <td>32</td>\n",
       "      <td>6</td>\n",
       "    </tr>\n",
       "    <tr>\n",
       "      <th>Bin_qual</th>\n",
       "      <td>V61GT1</td>\n",
       "      <td>CM1.Das-tool</td>\n",
       "      <td>44</td>\n",
       "      <td>42</td>\n",
       "      <td>13</td>\n",
       "    </tr>\n",
       "  </tbody>\n",
       "</table>\n",
       "</div>"
      ],
      "text/plain": [
       "           vkood            CM  HQ  MQ  LQ\n",
       "Bin_qual  V40FOF  CM1.Das-tool  16  32   6\n",
       "Bin_qual  V61GT1  CM1.Das-tool  44  42  13"
      ]
     },
     "execution_count": 164,
     "metadata": {},
     "output_type": "execute_result"
    }
   ],
   "source": [
    "cmSTAT.head(2)"
   ]
  },
  {
   "cell_type": "code",
   "execution_count": 163,
   "metadata": {},
   "outputs": [
    {
     "data": {
      "text/html": [
       "<div>\n",
       "<style scoped>\n",
       "    .dataframe tbody tr th:only-of-type {\n",
       "        vertical-align: middle;\n",
       "    }\n",
       "\n",
       "    .dataframe tbody tr th {\n",
       "        vertical-align: top;\n",
       "    }\n",
       "\n",
       "    .dataframe thead th {\n",
       "        text-align: right;\n",
       "    }\n",
       "</style>\n",
       "<table border=\"1\" class=\"dataframe\">\n",
       "  <thead>\n",
       "    <tr style=\"text-align: right;\">\n",
       "      <th></th>\n",
       "      <th>vkood</th>\n",
       "      <th>CM</th>\n",
       "      <th>variable</th>\n",
       "      <th>value</th>\n",
       "    </tr>\n",
       "  </thead>\n",
       "  <tbody>\n",
       "    <tr>\n",
       "      <th>0</th>\n",
       "      <td>V40FOF</td>\n",
       "      <td>CM1.Das-tool</td>\n",
       "      <td>HQ</td>\n",
       "      <td>16</td>\n",
       "    </tr>\n",
       "    <tr>\n",
       "      <th>1</th>\n",
       "      <td>V61GT1</td>\n",
       "      <td>CM1.Das-tool</td>\n",
       "      <td>HQ</td>\n",
       "      <td>44</td>\n",
       "    </tr>\n",
       "  </tbody>\n",
       "</table>\n",
       "</div>"
      ],
      "text/plain": [
       "    vkood            CM variable value\n",
       "0  V40FOF  CM1.Das-tool       HQ    16\n",
       "1  V61GT1  CM1.Das-tool       HQ    44"
      ]
     },
     "execution_count": 163,
     "metadata": {},
     "output_type": "execute_result"
    }
   ],
   "source": [
    "mlt.head(2)"
   ]
  },
  {
   "cell_type": "code",
   "execution_count": 161,
   "metadata": {},
   "outputs": [
    {
     "data": {
      "text/html": [
       "<div>\n",
       "<style scoped>\n",
       "    .dataframe tbody tr th:only-of-type {\n",
       "        vertical-align: middle;\n",
       "    }\n",
       "\n",
       "    .dataframe tbody tr th {\n",
       "        vertical-align: top;\n",
       "    }\n",
       "\n",
       "    .dataframe thead th {\n",
       "        text-align: right;\n",
       "    }\n",
       "</style>\n",
       "<table border=\"1\" class=\"dataframe\">\n",
       "  <thead>\n",
       "    <tr style=\"text-align: right;\">\n",
       "      <th></th>\n",
       "      <th>vkood</th>\n",
       "      <th>HQ</th>\n",
       "      <th>MQ</th>\n",
       "      <th>LQ</th>\n",
       "      <th>variable</th>\n",
       "      <th>value</th>\n",
       "    </tr>\n",
       "  </thead>\n",
       "  <tbody>\n",
       "    <tr>\n",
       "      <th>0</th>\n",
       "      <td>V40FOF</td>\n",
       "      <td>16</td>\n",
       "      <td>32</td>\n",
       "      <td>6</td>\n",
       "      <td>CM</td>\n",
       "      <td>CM1.Das-tool</td>\n",
       "    </tr>\n",
       "    <tr>\n",
       "      <th>1</th>\n",
       "      <td>V61GT1</td>\n",
       "      <td>44</td>\n",
       "      <td>42</td>\n",
       "      <td>13</td>\n",
       "      <td>CM</td>\n",
       "      <td>CM1.Das-tool</td>\n",
       "    </tr>\n",
       "  </tbody>\n",
       "</table>\n",
       "</div>"
      ],
      "text/plain": [
       "    vkood  HQ  MQ  LQ variable         value\n",
       "0  V40FOF  16  32   6       CM  CM1.Das-tool\n",
       "1  V61GT1  44  42  13       CM  CM1.Das-tool"
      ]
     },
     "execution_count": 161,
     "metadata": {},
     "output_type": "execute_result"
    }
   ],
   "source": [
    "mlt2 = pd.melt(cmSTAT, id_vars =['vkood','HQ','MQ','LQ'], value_vars =['CM'])\n",
    "mlt2.head(2)"
   ]
  },
  {
   "cell_type": "code",
   "execution_count": null,
   "metadata": {},
   "outputs": [],
   "source": []
  },
  {
   "cell_type": "code",
   "execution_count": null,
   "metadata": {},
   "outputs": [],
   "source": []
  },
  {
   "cell_type": "code",
   "execution_count": null,
   "metadata": {},
   "outputs": [],
   "source": []
  },
  {
   "cell_type": "code",
   "execution_count": 40,
   "metadata": {},
   "outputs": [
    {
     "data": {
      "text/html": [
       "<div>\n",
       "<style scoped>\n",
       "    .dataframe tbody tr th:only-of-type {\n",
       "        vertical-align: middle;\n",
       "    }\n",
       "\n",
       "    .dataframe tbody tr th {\n",
       "        vertical-align: top;\n",
       "    }\n",
       "\n",
       "    .dataframe thead th {\n",
       "        text-align: right;\n",
       "    }\n",
       "</style>\n",
       "<table border=\"1\" class=\"dataframe\">\n",
       "  <thead>\n",
       "    <tr style=\"text-align: right;\">\n",
       "      <th></th>\n",
       "      <th>vkood</th>\n",
       "      <th>contigs_number</th>\n",
       "      <th>assembly_length</th>\n",
       "      <th>max_cont_len</th>\n",
       "      <th>avg_cont_len</th>\n",
       "      <th>N50</th>\n",
       "      <th>data_creation</th>\n",
       "      <th>time_creation</th>\n",
       "    </tr>\n",
       "  </thead>\n",
       "  <tbody>\n",
       "    <tr>\n",
       "      <th>1902</th>\n",
       "      <td>VZWEWM</td>\n",
       "      <td>322270</td>\n",
       "      <td>523197918</td>\n",
       "      <td>711252</td>\n",
       "      <td>1623</td>\n",
       "      <td>6277</td>\n",
       "      <td>2022-08-06</td>\n",
       "      <td>23:48:53</td>\n",
       "    </tr>\n",
       "    <tr>\n",
       "      <th>1903</th>\n",
       "      <td>VZXIHP</td>\n",
       "      <td>444122</td>\n",
       "      <td>650800875</td>\n",
       "      <td>644510</td>\n",
       "      <td>1465</td>\n",
       "      <td>3993</td>\n",
       "      <td>2022-07-28</td>\n",
       "      <td>16:24:24</td>\n",
       "    </tr>\n",
       "    <tr>\n",
       "      <th>1904</th>\n",
       "      <td>VZY957</td>\n",
       "      <td>258022</td>\n",
       "      <td>405505920</td>\n",
       "      <td>605936</td>\n",
       "      <td>1571</td>\n",
       "      <td>4968</td>\n",
       "      <td>2022-08-28</td>\n",
       "      <td>15:23:40</td>\n",
       "    </tr>\n",
       "    <tr>\n",
       "      <th>1905</th>\n",
       "      <td>VZYSJ2</td>\n",
       "      <td>118428</td>\n",
       "      <td>202543399</td>\n",
       "      <td>717098</td>\n",
       "      <td>1710</td>\n",
       "      <td>7097</td>\n",
       "      <td>2022-08-26</td>\n",
       "      <td>10:39:18</td>\n",
       "    </tr>\n",
       "    <tr>\n",
       "      <th>1906</th>\n",
       "      <td>VZZW6V</td>\n",
       "      <td>375477</td>\n",
       "      <td>452999445</td>\n",
       "      <td>761826</td>\n",
       "      <td>1206</td>\n",
       "      <td>2058</td>\n",
       "      <td>2022-08-23</td>\n",
       "      <td>18:00:37</td>\n",
       "    </tr>\n",
       "  </tbody>\n",
       "</table>\n",
       "</div>"
      ],
      "text/plain": [
       "       vkood  contigs_number  assembly_length  max_cont_len  avg_cont_len  \\\n",
       "1902  VZWEWM          322270        523197918        711252          1623   \n",
       "1903  VZXIHP          444122        650800875        644510          1465   \n",
       "1904  VZY957          258022        405505920        605936          1571   \n",
       "1905  VZYSJ2          118428        202543399        717098          1710   \n",
       "1906  VZZW6V          375477        452999445        761826          1206   \n",
       "\n",
       "       N50 data_creation time_creation  \n",
       "1902  6277    2022-08-06      23:48:53  \n",
       "1903  3993    2022-07-28      16:24:24  \n",
       "1904  4968    2022-08-28      15:23:40  \n",
       "1905  7097    2022-08-26      10:39:18  \n",
       "1906  2058    2022-08-23      18:00:37  "
      ]
     },
     "execution_count": 40,
     "metadata": {},
     "output_type": "execute_result"
    }
   ],
   "source": [
    "data = pd.read_csv('input/BGIset_SmplAssemblyInfo.csv', header=None, sep=' ')\n",
    "data = data[[0,4,7,13,16,19,1,2]]\n",
    "data = data.rename(columns={0: \"vkood\", 4: \"contigs_number\", 7: \"assembly_length\", 13: \"max_cont_len\", \n",
    "                            16: \"avg_cont_len\", 19: \"N50\", 1: \"data_creation\", 2: \"time_creation\"})\n",
    "data[\"vkood\"] = data[\"vkood\"].str.replace(\"assembly_\",\"\")\n",
    "data.tail()"
   ]
  },
  {
   "cell_type": "code",
   "execution_count": 44,
   "metadata": {},
   "outputs": [],
   "source": [
    "data['cont_ths'] = data['contigs_number']/1000\n",
    "data['ass_mln'] = data['assembly_length']/1000000"
   ]
  },
  {
   "cell_type": "code",
   "execution_count": 47,
   "metadata": {},
   "outputs": [
    {
     "name": "stdout",
     "output_type": "stream",
     "text": [
      "Total contigs number: 529027628\n",
      "Average contigs number per sample: 277413.5437860514\n",
      "\n",
      "Average metagenome size: 416.58138548400655 mln\n"
     ]
    }
   ],
   "source": [
    "print('Total contigs number: '+str(data['contigs_number'].sum()))\n",
    "print('Average contigs number per sample: '+str(data['contigs_number'].mean()))\n",
    "print('\\n'+'Average metagenome size: '+str(data['ass_mln'].mean())+' mln')"
   ]
  },
  {
   "cell_type": "code",
   "execution_count": 39,
   "metadata": {},
   "outputs": [
    {
     "data": {
      "image/png": "[encoded data removed]",
      "text/plain": [
       "<Figure size 432x288 with 1 Axes>"
      ]
     },
     "metadata": {
      "needs_background": "light"
     },
     "output_type": "display_data"
    }
   ],
   "source": [
    "sns.violinplot(data=data, x='cont_ths', inner=\"quartile\", color='#a7e354')\n",
    "plt.title(\"Mean contigs number per sample\")\n",
    "plt.xlabel('contigs number, ths', fontweight='bold')\n",
    "plt.text(350,0.4,'Total contigs number: 529 mln')\n",
    "\n",
    "plt.savefig('results/Contigs_number.jpg', dpi=150)"
   ]
  },
  {
   "cell_type": "code",
   "execution_count": 51,
   "metadata": {},
   "outputs": [
    {
     "data": {
      "image/png": "[encoded data removed]",
      "text/plain": [
       "<Figure size 432x288 with 1 Axes>"
      ]
     },
     "metadata": {
      "needs_background": "light"
     },
     "output_type": "display_data"
    }
   ],
   "source": [
    "sns.violinplot(data=data, x='ass_mln', inner=\"quartile\", color='#98b5e3')\n",
    "plt.title(\"Mean metagenome size per sample\")\n",
    "plt.xlabel('assembly length, mln bp', fontweight='bold')\n",
    "plt.text(400,0.46,'Average metagenome size: 416 mln')\n",
    "\n",
    "plt.savefig('results/Assembly_length.jpg', dpi=150)"
   ]
  },
  {
   "cell_type": "code",
   "execution_count": 5,
   "metadata": {},
   "outputs": [],
   "source": [
    "data.to_csv('results/BGIset_SmplAssemblyInfo_m.csv', index=False)"
   ]
  },
  {
   "cell_type": "code",
   "execution_count": 6,
   "metadata": {},
   "outputs": [
    {
     "data": {
      "text/html": [
       "<div>\n",
       "<style scoped>\n",
       "    .dataframe tbody tr th:only-of-type {\n",
       "        vertical-align: middle;\n",
       "    }\n",
       "\n",
       "    .dataframe tbody tr th {\n",
       "        vertical-align: top;\n",
       "    }\n",
       "\n",
       "    .dataframe thead th {\n",
       "        text-align: right;\n",
       "    }\n",
       "</style>\n",
       "<table border=\"1\" class=\"dataframe\">\n",
       "  <thead>\n",
       "    <tr style=\"text-align: right;\">\n",
       "      <th></th>\n",
       "      <th>data_creation</th>\n",
       "    </tr>\n",
       "  </thead>\n",
       "  <tbody>\n",
       "    <tr>\n",
       "      <th>2022-05-10</th>\n",
       "      <td>2</td>\n",
       "    </tr>\n",
       "    <tr>\n",
       "      <th>2022-05-11</th>\n",
       "      <td>12</td>\n",
       "    </tr>\n",
       "    <tr>\n",
       "      <th>2022-05-12</th>\n",
       "      <td>10</td>\n",
       "    </tr>\n",
       "    <tr>\n",
       "      <th>2022-05-13</th>\n",
       "      <td>4</td>\n",
       "    </tr>\n",
       "    <tr>\n",
       "      <th>2022-05-14</th>\n",
       "      <td>10</td>\n",
       "    </tr>\n",
       "  </tbody>\n",
       "</table>\n",
       "</div>"
      ],
      "text/plain": [
       "            data_creation\n",
       "2022-05-10              2\n",
       "2022-05-11             12\n",
       "2022-05-12             10\n",
       "2022-05-13              4\n",
       "2022-05-14             10"
      ]
     },
     "execution_count": 6,
     "metadata": {},
     "output_type": "execute_result"
    }
   ],
   "source": [
    "st =data['data_creation'].value_counts(sort=False).to_frame()\n",
    "st = st.sort_index(ascending=True)\n",
    "st.head()"
   ]
  },
  {
   "cell_type": "code",
   "execution_count": null,
   "metadata": {},
   "outputs": [],
   "source": []
  }
 ],
 "metadata": {
  "kernelspec": {
   "display_name": "Python 3",
   "language": "python",
   "name": "python3"
  },
  "language_info": {
   "codemirror_mode": {
    "name": "ipython",
    "version": 3
   },
   "file_extension": ".py",
   "mimetype": "text/x-python",
   "name": "python",
   "nbconvert_exporter": "python",
   "pygments_lexer": "ipython3",
   "version": "3.7.0"
  }
 },
 "nbformat": 4,
 "nbformat_minor": 2
}
