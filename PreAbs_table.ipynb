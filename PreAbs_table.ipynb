{
 "cells": [
  {
   "cell_type": "code",
   "execution_count": 1,
   "metadata": {},
   "outputs": [],
   "source": [
    "# import packages\n",
    "import matplotlib.pyplot as plt\n",
    "import seaborn as sns\n",
    "import pandas as pd\n",
    "import plotly.express as px\n",
    "import plotly.graph_objects as go\n",
    "import plotly.express as px\n",
    "import os\n",
    "import glob"
   ]
  },
  {
   "attachments": {},
   "cell_type": "markdown",
   "metadata": {},
   "source": [
    "## Read input"
   ]
  },
  {
   "cell_type": "code",
   "execution_count": 13,
   "metadata": {},
   "outputs": [
    {
     "data": {
      "text/html": [
       "<div>\n",
       "<style scoped>\n",
       "    .dataframe tbody tr th:only-of-type {\n",
       "        vertical-align: middle;\n",
       "    }\n",
       "\n",
       "    .dataframe tbody tr th {\n",
       "        vertical-align: top;\n",
       "    }\n",
       "\n",
       "    .dataframe thead th {\n",
       "        text-align: right;\n",
       "    }\n",
       "</style>\n",
       "<table border=\"1\" class=\"dataframe\">\n",
       "  <thead>\n",
       "    <tr style=\"text-align: right;\">\n",
       "      <th></th>\n",
       "      <th>sample</th>\n",
       "      <th>recovered_genome</th>\n",
       "      <th>final_genomes</th>\n",
       "    </tr>\n",
       "  </thead>\n",
       "  <tbody>\n",
       "    <tr>\n",
       "      <th>0</th>\n",
       "      <td>V00H9L</td>\n",
       "      <td>V00H9L_vamb.216248.fa</td>\n",
       "      <td>V00H9L_vamb.216248.fa</td>\n",
       "    </tr>\n",
       "    <tr>\n",
       "      <th>1</th>\n",
       "      <td>VEZUDR</td>\n",
       "      <td>VEZUDR_vamb.198244.fa</td>\n",
       "      <td>V00H9L_vamb.216248.fa</td>\n",
       "    </tr>\n",
       "    <tr>\n",
       "      <th>2</th>\n",
       "      <td>VF9LPS</td>\n",
       "      <td>VF9LPS_maxbin.061.fa</td>\n",
       "      <td>V00H9L_vamb.216248.fa</td>\n",
       "    </tr>\n",
       "    <tr>\n",
       "      <th>3</th>\n",
       "      <td>VFK4IA</td>\n",
       "      <td>VFK4IA_vamb.287384_sub.fa</td>\n",
       "      <td>V00H9L_vamb.216248.fa</td>\n",
       "    </tr>\n",
       "    <tr>\n",
       "      <th>4</th>\n",
       "      <td>VI72RB</td>\n",
       "      <td>VI72RB_maxbin.021.fa</td>\n",
       "      <td>V00H9L_vamb.216248.fa</td>\n",
       "    </tr>\n",
       "  </tbody>\n",
       "</table>\n",
       "</div>"
      ],
      "text/plain": [
       "   sample           recovered_genome          final_genomes\n",
       "0  V00H9L      V00H9L_vamb.216248.fa  V00H9L_vamb.216248.fa\n",
       "1  VEZUDR      VEZUDR_vamb.198244.fa  V00H9L_vamb.216248.fa\n",
       "2  VF9LPS       VF9LPS_maxbin.061.fa  V00H9L_vamb.216248.fa\n",
       "3  VFK4IA  VFK4IA_vamb.287384_sub.fa  V00H9L_vamb.216248.fa\n",
       "4  VI72RB       VI72RB_maxbin.021.fa  V00H9L_vamb.216248.fa"
      ]
     },
     "execution_count": 13,
     "metadata": {},
     "output_type": "execute_result"
    }
   ],
   "source": [
    "allB = pd.read_excel('FINAL_tables/FINAL_all_bins_all_clusters.xlsx')\n",
    "allW = allB[['sample','recovered_genome','final_genomes']]\n",
    "allW.head()"
   ]
  },
  {
   "attachments": {},
   "cell_type": "markdown",
   "metadata": {},
   "source": [
    "## Check unknown taxa"
   ]
  },
  {
   "cell_type": "code",
   "execution_count": 36,
   "metadata": {},
   "outputs": [
    {
     "data": {
      "text/plain": [
       "unknown_sp        333\n",
       "unknown_genus      25\n",
       "unknown_family      1\n",
       "Name: GTDBv214_taxa_notes, dtype: int64"
      ]
     },
     "execution_count": 36,
     "metadata": {},
     "output_type": "execute_result"
    }
   ],
   "source": [
    "bst = pd.read_excel('FINAL_tables/FINAL_only_the_best_genomes_with_2nd_cluster_with_taxa_with_binsNmb_m.xlsx')\n",
    "new = bst.dropna(subset=['GTDBv214_taxa_notes'])\n",
    "new['GTDBv214_taxa_notes'].value_counts()\n"
   ]
  },
  {
   "cell_type": "code",
   "execution_count": 45,
   "metadata": {},
   "outputs": [
    {
     "data": {
      "text/plain": [
       "Collinsella     29\n",
       "CAG-873          8\n",
       "UBA1740          7\n",
       "UBA1259          7\n",
       "Borkfalkia       7\n",
       "Zag111           7\n",
       "Alistipes        6\n",
       "SIG427           6\n",
       "Stercorousia     6\n",
       "UBA7173          5\n",
       "Name: genus, dtype: int64"
      ]
     },
     "execution_count": 45,
     "metadata": {},
     "output_type": "execute_result"
    }
   ],
   "source": [
    "new['genus'].value_counts().head(10)"
   ]
  },
  {
   "attachments": {},
   "cell_type": "markdown",
   "metadata": {},
   "source": [
    "## All bins input"
   ]
  },
  {
   "cell_type": "code",
   "execution_count": 14,
   "metadata": {},
   "outputs": [
    {
     "data": {
      "text/html": [
       "<div>\n",
       "<style scoped>\n",
       "    .dataframe tbody tr th:only-of-type {\n",
       "        vertical-align: middle;\n",
       "    }\n",
       "\n",
       "    .dataframe tbody tr th {\n",
       "        vertical-align: top;\n",
       "    }\n",
       "\n",
       "    .dataframe thead th {\n",
       "        text-align: right;\n",
       "    }\n",
       "</style>\n",
       "<table border=\"1\" class=\"dataframe\">\n",
       "  <thead>\n",
       "    <tr style=\"text-align: right;\">\n",
       "      <th></th>\n",
       "      <th>sample_name</th>\n",
       "      <th>genus</th>\n",
       "      <th>best_cluster_genome</th>\n",
       "      <th>cluster</th>\n",
       "    </tr>\n",
       "  </thead>\n",
       "  <tbody>\n",
       "    <tr>\n",
       "      <th>0</th>\n",
       "      <td>VLB6XN</td>\n",
       "      <td>14-2</td>\n",
       "      <td>VLB6XN_256644.fa</td>\n",
       "      <td>14-2-VLB6XN_256644.fa</td>\n",
       "    </tr>\n",
       "    <tr>\n",
       "      <th>1</th>\n",
       "      <td>VDFRDM</td>\n",
       "      <td>14-2</td>\n",
       "      <td>VDFRDM_metabat.13.fa</td>\n",
       "      <td>14-2-VDFRDM_metabat.13.fa</td>\n",
       "    </tr>\n",
       "    <tr>\n",
       "      <th>2</th>\n",
       "      <td>V46NG6</td>\n",
       "      <td>1XD42-69</td>\n",
       "      <td>V46NG6_metabat.195.fa</td>\n",
       "      <td>1XD42-69-V46NG6_metabat.195.fa</td>\n",
       "    </tr>\n",
       "    <tr>\n",
       "      <th>3</th>\n",
       "      <td>VUXZVX</td>\n",
       "      <td>43-108</td>\n",
       "      <td>VUXZVX_metabat.11.fa</td>\n",
       "      <td>43-108-VUXZVX_metabat.11.fa</td>\n",
       "    </tr>\n",
       "    <tr>\n",
       "      <th>4</th>\n",
       "      <td>VQQ90U</td>\n",
       "      <td>51-20</td>\n",
       "      <td>VQQ90U_vamb.11929.fa</td>\n",
       "      <td>51-20-VQQ90U_vamb.11929.fa</td>\n",
       "    </tr>\n",
       "  </tbody>\n",
       "</table>\n",
       "</div>"
      ],
      "text/plain": [
       "  sample_name     genus    best_cluster_genome                         cluster\n",
       "0      VLB6XN      14-2       VLB6XN_256644.fa           14-2-VLB6XN_256644.fa\n",
       "1      VDFRDM      14-2   VDFRDM_metabat.13.fa       14-2-VDFRDM_metabat.13.fa\n",
       "2      V46NG6  1XD42-69  V46NG6_metabat.195.fa  1XD42-69-V46NG6_metabat.195.fa\n",
       "3      VUXZVX    43-108   VUXZVX_metabat.11.fa     43-108-VUXZVX_metabat.11.fa\n",
       "4      VQQ90U     51-20   VQQ90U_vamb.11929.fa      51-20-VQQ90U_vamb.11929.fa"
      ]
     },
     "execution_count": 14,
     "metadata": {},
     "output_type": "execute_result"
    }
   ],
   "source": [
    "bst = pd.read_excel('FINAL_tables/FINAL_only_the_best_genomes_with_2nd_cluster_with_taxa_with_binsNmb_m.xlsx')\n",
    "bst = bst[['sample_name','genus','best_cluster_genome']]\n",
    "bst['cluster'] = bst['genus']+'-'+bst['best_cluster_genome']\n",
    "\n",
    "#bst_m = bst_m[['sample_name','cluster']]\n",
    "bst_m = bst.drop_duplicates()\n",
    "bst_m.head()"
   ]
  },
  {
   "cell_type": "code",
   "execution_count": 22,
   "metadata": {},
   "outputs": [
    {
     "data": {
      "text/html": [
       "<div>\n",
       "<style scoped>\n",
       "    .dataframe tbody tr th:only-of-type {\n",
       "        vertical-align: middle;\n",
       "    }\n",
       "\n",
       "    .dataframe tbody tr th {\n",
       "        vertical-align: top;\n",
       "    }\n",
       "\n",
       "    .dataframe thead th {\n",
       "        text-align: right;\n",
       "    }\n",
       "</style>\n",
       "<table border=\"1\" class=\"dataframe\">\n",
       "  <thead>\n",
       "    <tr style=\"text-align: right;\">\n",
       "      <th></th>\n",
       "      <th>sample</th>\n",
       "      <th>cluster</th>\n",
       "      <th>genus</th>\n",
       "    </tr>\n",
       "  </thead>\n",
       "  <tbody>\n",
       "    <tr>\n",
       "      <th>0</th>\n",
       "      <td>V00H9L</td>\n",
       "      <td>UBA10281-V00H9L_vamb.216248.fa</td>\n",
       "      <td>UBA10281</td>\n",
       "    </tr>\n",
       "    <tr>\n",
       "      <th>1</th>\n",
       "      <td>VEZUDR</td>\n",
       "      <td>UBA10281-V00H9L_vamb.216248.fa</td>\n",
       "      <td>UBA10281</td>\n",
       "    </tr>\n",
       "    <tr>\n",
       "      <th>2</th>\n",
       "      <td>VF9LPS</td>\n",
       "      <td>UBA10281-V00H9L_vamb.216248.fa</td>\n",
       "      <td>UBA10281</td>\n",
       "    </tr>\n",
       "    <tr>\n",
       "      <th>3</th>\n",
       "      <td>VFK4IA</td>\n",
       "      <td>UBA10281-V00H9L_vamb.216248.fa</td>\n",
       "      <td>UBA10281</td>\n",
       "    </tr>\n",
       "    <tr>\n",
       "      <th>4</th>\n",
       "      <td>VI72RB</td>\n",
       "      <td>UBA10281-V00H9L_vamb.216248.fa</td>\n",
       "      <td>UBA10281</td>\n",
       "    </tr>\n",
       "  </tbody>\n",
       "</table>\n",
       "</div>"
      ],
      "text/plain": [
       "   sample                         cluster     genus\n",
       "0  V00H9L  UBA10281-V00H9L_vamb.216248.fa  UBA10281\n",
       "1  VEZUDR  UBA10281-V00H9L_vamb.216248.fa  UBA10281\n",
       "2  VF9LPS  UBA10281-V00H9L_vamb.216248.fa  UBA10281\n",
       "3  VFK4IA  UBA10281-V00H9L_vamb.216248.fa  UBA10281\n",
       "4  VI72RB  UBA10281-V00H9L_vamb.216248.fa  UBA10281"
      ]
     },
     "execution_count": 22,
     "metadata": {},
     "output_type": "execute_result"
    }
   ],
   "source": [
    "# make matrix with a genus name\n",
    "#allW = allW.merge(bst_m, how='left', left_on='final_genomes', right_on='best_cluster_genome')\n",
    "allW = allW[['sample','cluster','genus']]\n",
    "allW = allW.drop_duplicates()\n",
    "matrix = allW.pivot(index='cluster', columns='sample', values='genus')\n",
    "matrix.to_excel('FINAL_tables/matrix_names.xlsx')"
   ]
  },
  {
   "cell_type": "code",
   "execution_count": 26,
   "metadata": {},
   "outputs": [],
   "source": [
    "# make matrix with a 1 & 0\n",
    "allW['genus'] = 1\n",
    "matrix = allW.pivot(index='cluster', columns='sample', values='genus')\n",
    "matrix = matrix.fillna(0)\n",
    "matrix.to_excel('FINAL_tables/matrix_1_0.xlsx')"
   ]
  }
 ],
 "metadata": {
  "kernelspec": {
   "display_name": "Python 3",
   "language": "python",
   "name": "python3"
  },
  "language_info": {
   "codemirror_mode": {
    "name": "ipython",
    "version": 3
   },
   "file_extension": ".py",
   "mimetype": "text/x-python",
   "name": "python",
   "nbconvert_exporter": "python",
   "pygments_lexer": "ipython3",
   "version": "3.9.6"
  }
 },
 "nbformat": 4,
 "nbformat_minor": 2
}
