{
 "cells": [
  {
   "cell_type": "code",
   "execution_count": 1,
   "metadata": {},
   "outputs": [],
   "source": [
    "# import packages\n",
    "import matplotlib.pyplot as plt\n",
    "import seaborn as sns\n",
    "import pandas as pd\n",
    "import plotly.express as px\n",
    "import plotly.graph_objects as go\n",
    "import plotly.express as px\n",
    "import os\n",
    "import numpy as np"
   ]
  },
  {
   "attachments": {},
   "cell_type": "markdown",
   "metadata": {},
   "source": [
    "## Read input"
   ]
  },
  {
   "cell_type": "code",
   "execution_count": 2,
   "metadata": {},
   "outputs": [
    {
     "data": {
      "text/html": [
       "<div>\n",
       "<style scoped>\n",
       "    .dataframe tbody tr th:only-of-type {\n",
       "        vertical-align: middle;\n",
       "    }\n",
       "\n",
       "    .dataframe tbody tr th {\n",
       "        vertical-align: top;\n",
       "    }\n",
       "\n",
       "    .dataframe thead th {\n",
       "        text-align: right;\n",
       "    }\n",
       "</style>\n",
       "<table border=\"1\" class=\"dataframe\">\n",
       "  <thead>\n",
       "    <tr style=\"text-align: right;\">\n",
       "      <th></th>\n",
       "      <th>best_cluster_genome</th>\n",
       "      <th>sample_name</th>\n",
       "      <th>completeness</th>\n",
       "      <th>contamination</th>\n",
       "      <th>strain_heterogeneity</th>\n",
       "      <th>length</th>\n",
       "      <th>N50</th>\n",
       "      <th>Bin_qual</th>\n",
       "      <th>1st_clustering_cluster</th>\n",
       "      <th>1st_clustering_centrality</th>\n",
       "      <th>...</th>\n",
       "      <th>phylum</th>\n",
       "      <th>class</th>\n",
       "      <th>order</th>\n",
       "      <th>family</th>\n",
       "      <th>genus</th>\n",
       "      <th>sp</th>\n",
       "      <th>GTDBv214_taxa_notes</th>\n",
       "      <th>2nd_clustering_cluster.1</th>\n",
       "      <th>number_of_bins_per_cluster</th>\n",
       "      <th>best_cluster_genome.1</th>\n",
       "    </tr>\n",
       "  </thead>\n",
       "  <tbody>\n",
       "    <tr>\n",
       "      <th>0</th>\n",
       "      <td>VLB6XN_256644.fa</td>\n",
       "      <td>VLB6XN</td>\n",
       "      <td>96.55</td>\n",
       "      <td>3.45</td>\n",
       "      <td>0.0</td>\n",
       "      <td>2869579</td>\n",
       "      <td>106856</td>\n",
       "      <td>HQ</td>\n",
       "      <td>p1-629_1</td>\n",
       "      <td>0.000000</td>\n",
       "      <td>...</td>\n",
       "      <td>Bacillota_A</td>\n",
       "      <td>Clostridia</td>\n",
       "      <td>Lachnospirales</td>\n",
       "      <td>Lachnospiraceae</td>\n",
       "      <td>14-2</td>\n",
       "      <td>14-2 sp012519695</td>\n",
       "      <td>NaN</td>\n",
       "      <td>1030_1</td>\n",
       "      <td>1.0</td>\n",
       "      <td>VLB6XN_256644.fa</td>\n",
       "    </tr>\n",
       "    <tr>\n",
       "      <th>1</th>\n",
       "      <td>VDFRDM_metabat.13.fa</td>\n",
       "      <td>VDFRDM</td>\n",
       "      <td>89.66</td>\n",
       "      <td>0.00</td>\n",
       "      <td>0.0</td>\n",
       "      <td>3369048</td>\n",
       "      <td>49428</td>\n",
       "      <td>MQ</td>\n",
       "      <td>p5-586_1</td>\n",
       "      <td>0.000000</td>\n",
       "      <td>...</td>\n",
       "      <td>Bacillota_A</td>\n",
       "      <td>Clostridia</td>\n",
       "      <td>Lachnospirales</td>\n",
       "      <td>Lachnospiraceae</td>\n",
       "      <td>14-2</td>\n",
       "      <td>14-2 sp934434905</td>\n",
       "      <td>NaN</td>\n",
       "      <td>1347_1</td>\n",
       "      <td>2.0</td>\n",
       "      <td>VDFRDM_metabat.13.fa</td>\n",
       "    </tr>\n",
       "    <tr>\n",
       "      <th>2</th>\n",
       "      <td>V46NG6_metabat.195.fa</td>\n",
       "      <td>V46NG6</td>\n",
       "      <td>94.83</td>\n",
       "      <td>1.72</td>\n",
       "      <td>0.0</td>\n",
       "      <td>2722708</td>\n",
       "      <td>65737</td>\n",
       "      <td>HQ</td>\n",
       "      <td>p1-590_1</td>\n",
       "      <td>0.992862</td>\n",
       "      <td>...</td>\n",
       "      <td>Bacillota_A</td>\n",
       "      <td>Clostridia</td>\n",
       "      <td>Lachnospirales</td>\n",
       "      <td>Lachnospiraceae</td>\n",
       "      <td>1XD42-69</td>\n",
       "      <td>1XD42-69 sp014287635</td>\n",
       "      <td>NaN</td>\n",
       "      <td>1034_1</td>\n",
       "      <td>3.0</td>\n",
       "      <td>V46NG6_metabat.195.fa</td>\n",
       "    </tr>\n",
       "    <tr>\n",
       "      <th>3</th>\n",
       "      <td>VUXZVX_metabat.11.fa</td>\n",
       "      <td>VUXZVX</td>\n",
       "      <td>100.00</td>\n",
       "      <td>0.00</td>\n",
       "      <td>0.0</td>\n",
       "      <td>3396239</td>\n",
       "      <td>73743</td>\n",
       "      <td>HQ</td>\n",
       "      <td>p9-351_1</td>\n",
       "      <td>0.981881</td>\n",
       "      <td>...</td>\n",
       "      <td>Bacteroidota</td>\n",
       "      <td>Bacteroidia</td>\n",
       "      <td>Bacteroidales</td>\n",
       "      <td>Bacteroidaceae</td>\n",
       "      <td>43-108</td>\n",
       "      <td>43-108 sp001915545</td>\n",
       "      <td>NaN</td>\n",
       "      <td>841_1</td>\n",
       "      <td>12.0</td>\n",
       "      <td>VUXZVX_metabat.11.fa</td>\n",
       "    </tr>\n",
       "    <tr>\n",
       "      <th>4</th>\n",
       "      <td>VQQ90U_vamb.11929.fa</td>\n",
       "      <td>VQQ90U</td>\n",
       "      <td>98.28</td>\n",
       "      <td>0.00</td>\n",
       "      <td>0.0</td>\n",
       "      <td>2006803</td>\n",
       "      <td>105959</td>\n",
       "      <td>HQ</td>\n",
       "      <td>p8-208_1</td>\n",
       "      <td>0.987006</td>\n",
       "      <td>...</td>\n",
       "      <td>Pseudomonadota</td>\n",
       "      <td>Alphaproteobacteria</td>\n",
       "      <td>RF32</td>\n",
       "      <td>CAG-239</td>\n",
       "      <td>51-20</td>\n",
       "      <td>51-20 sp001917175</td>\n",
       "      <td>NaN</td>\n",
       "      <td>30_1</td>\n",
       "      <td>336.0</td>\n",
       "      <td>VQQ90U_vamb.11929.fa</td>\n",
       "    </tr>\n",
       "  </tbody>\n",
       "</table>\n",
       "<p>5 rows × 25 columns</p>\n",
       "</div>"
      ],
      "text/plain": [
       "     best_cluster_genome sample_name  completeness  contamination  \\\n",
       "0       VLB6XN_256644.fa      VLB6XN         96.55           3.45   \n",
       "1   VDFRDM_metabat.13.fa      VDFRDM         89.66           0.00   \n",
       "2  V46NG6_metabat.195.fa      V46NG6         94.83           1.72   \n",
       "3   VUXZVX_metabat.11.fa      VUXZVX        100.00           0.00   \n",
       "4   VQQ90U_vamb.11929.fa      VQQ90U         98.28           0.00   \n",
       "\n",
       "   strain_heterogeneity   length     N50 Bin_qual 1st_clustering_cluster  \\\n",
       "0                   0.0  2869579  106856       HQ               p1-629_1   \n",
       "1                   0.0  3369048   49428       MQ               p5-586_1   \n",
       "2                   0.0  2722708   65737       HQ               p1-590_1   \n",
       "3                   0.0  3396239   73743       HQ               p9-351_1   \n",
       "4                   0.0  2006803  105959       HQ               p8-208_1   \n",
       "\n",
       "   1st_clustering_centrality  ...          phylum                class  \\\n",
       "0                   0.000000  ...     Bacillota_A           Clostridia   \n",
       "1                   0.000000  ...     Bacillota_A           Clostridia   \n",
       "2                   0.992862  ...     Bacillota_A           Clostridia   \n",
       "3                   0.981881  ...    Bacteroidota          Bacteroidia   \n",
       "4                   0.987006  ...  Pseudomonadota  Alphaproteobacteria   \n",
       "\n",
       "            order           family     genus                    sp  \\\n",
       "0  Lachnospirales  Lachnospiraceae      14-2      14-2 sp012519695   \n",
       "1  Lachnospirales  Lachnospiraceae      14-2      14-2 sp934434905   \n",
       "2  Lachnospirales  Lachnospiraceae  1XD42-69  1XD42-69 sp014287635   \n",
       "3   Bacteroidales   Bacteroidaceae    43-108    43-108 sp001915545   \n",
       "4            RF32          CAG-239     51-20     51-20 sp001917175   \n",
       "\n",
       "  GTDBv214_taxa_notes 2nd_clustering_cluster.1 number_of_bins_per_cluster  \\\n",
       "0                 NaN                   1030_1                        1.0   \n",
       "1                 NaN                   1347_1                        2.0   \n",
       "2                 NaN                   1034_1                        3.0   \n",
       "3                 NaN                    841_1                       12.0   \n",
       "4                 NaN                     30_1                      336.0   \n",
       "\n",
       "   best_cluster_genome.1  \n",
       "0       VLB6XN_256644.fa  \n",
       "1   VDFRDM_metabat.13.fa  \n",
       "2  V46NG6_metabat.195.fa  \n",
       "3   VUXZVX_metabat.11.fa  \n",
       "4   VQQ90U_vamb.11929.fa  \n",
       "\n",
       "[5 rows x 25 columns]"
      ]
     },
     "execution_count": 2,
     "metadata": {},
     "output_type": "execute_result"
    }
   ],
   "source": [
    "bst = pd.read_excel('FINAL_tables/FINAL_only_the_best_genomes_with_2nd_cluster_with_taxa_with_binsNmb_m.xlsx')\n",
    "bst.head()"
   ]
  },
  {
   "cell_type": "code",
   "execution_count": 13,
   "metadata": {},
   "outputs": [
    {
     "data": {
      "text/html": [
       "<div>\n",
       "<style scoped>\n",
       "    .dataframe tbody tr th:only-of-type {\n",
       "        vertical-align: middle;\n",
       "    }\n",
       "\n",
       "    .dataframe tbody tr th {\n",
       "        vertical-align: top;\n",
       "    }\n",
       "\n",
       "    .dataframe thead tr th {\n",
       "        text-align: left;\n",
       "    }\n",
       "\n",
       "    .dataframe thead tr:last-of-type th {\n",
       "        text-align: right;\n",
       "    }\n",
       "</style>\n",
       "<table border=\"1\" class=\"dataframe\">\n",
       "  <thead>\n",
       "    <tr>\n",
       "      <th></th>\n",
       "      <th colspan=\"2\" halign=\"left\">number_of_bins_per_cluster</th>\n",
       "    </tr>\n",
       "    <tr>\n",
       "      <th></th>\n",
       "      <th>sum</th>\n",
       "      <th>count</th>\n",
       "    </tr>\n",
       "    <tr>\n",
       "      <th>phylum</th>\n",
       "      <th></th>\n",
       "      <th></th>\n",
       "    </tr>\n",
       "  </thead>\n",
       "  <tbody>\n",
       "    <tr>\n",
       "      <th>Bacillota_A</th>\n",
       "      <td>34352.0</td>\n",
       "      <td>1213</td>\n",
       "    </tr>\n",
       "    <tr>\n",
       "      <th>Bacteroidota</th>\n",
       "      <td>14527.0</td>\n",
       "      <td>337</td>\n",
       "    </tr>\n",
       "    <tr>\n",
       "      <th>Bacillota</th>\n",
       "      <td>4788.0</td>\n",
       "      <td>212</td>\n",
       "    </tr>\n",
       "    <tr>\n",
       "      <th>Pseudomonadota</th>\n",
       "      <td>4519.0</td>\n",
       "      <td>159</td>\n",
       "    </tr>\n",
       "    <tr>\n",
       "      <th>Verrucomicrobiota</th>\n",
       "      <td>2361.0</td>\n",
       "      <td>58</td>\n",
       "    </tr>\n",
       "    <tr>\n",
       "      <th>Bacillota_C</th>\n",
       "      <td>1414.0</td>\n",
       "      <td>45</td>\n",
       "    </tr>\n",
       "    <tr>\n",
       "      <th>Cyanobacteriota</th>\n",
       "      <td>1252.0</td>\n",
       "      <td>78</td>\n",
       "    </tr>\n",
       "    <tr>\n",
       "      <th>Actinomycetota</th>\n",
       "      <td>980.0</td>\n",
       "      <td>70</td>\n",
       "    </tr>\n",
       "    <tr>\n",
       "      <th>Desulfobacterota</th>\n",
       "      <td>834.0</td>\n",
       "      <td>29</td>\n",
       "    </tr>\n",
       "    <tr>\n",
       "      <th>Elusimicrobiota</th>\n",
       "      <td>89.0</td>\n",
       "      <td>8</td>\n",
       "    </tr>\n",
       "    <tr>\n",
       "      <th>Bacillota_B</th>\n",
       "      <td>67.0</td>\n",
       "      <td>9</td>\n",
       "    </tr>\n",
       "    <tr>\n",
       "      <th>Spirochaetota</th>\n",
       "      <td>33.0</td>\n",
       "      <td>10</td>\n",
       "    </tr>\n",
       "    <tr>\n",
       "      <th>Campylobacterota</th>\n",
       "      <td>19.0</td>\n",
       "      <td>12</td>\n",
       "    </tr>\n",
       "    <tr>\n",
       "      <th>Bacillota_G</th>\n",
       "      <td>14.0</td>\n",
       "      <td>1</td>\n",
       "    </tr>\n",
       "    <tr>\n",
       "      <th>Synergistota</th>\n",
       "      <td>14.0</td>\n",
       "      <td>5</td>\n",
       "    </tr>\n",
       "    <tr>\n",
       "      <th>Fusobacteriota</th>\n",
       "      <td>10.0</td>\n",
       "      <td>7</td>\n",
       "    </tr>\n",
       "    <tr>\n",
       "      <th>Myxococcota</th>\n",
       "      <td>4.0</td>\n",
       "      <td>1</td>\n",
       "    </tr>\n",
       "    <tr>\n",
       "      <th>Eremiobacterota</th>\n",
       "      <td>2.0</td>\n",
       "      <td>1</td>\n",
       "    </tr>\n",
       "    <tr>\n",
       "      <th>Fibrobacterota</th>\n",
       "      <td>1.0</td>\n",
       "      <td>1</td>\n",
       "    </tr>\n",
       "    <tr>\n",
       "      <th>Patescibacteria</th>\n",
       "      <td>1.0</td>\n",
       "      <td>1</td>\n",
       "    </tr>\n",
       "  </tbody>\n",
       "</table>\n",
       "</div>"
      ],
      "text/plain": [
       "                  number_of_bins_per_cluster      \n",
       "                                         sum count\n",
       "phylum                                            \n",
       "Bacillota_A                          34352.0  1213\n",
       "Bacteroidota                         14527.0   337\n",
       "Bacillota                             4788.0   212\n",
       "Pseudomonadota                        4519.0   159\n",
       "Verrucomicrobiota                     2361.0    58\n",
       "Bacillota_C                           1414.0    45\n",
       "Cyanobacteriota                       1252.0    78\n",
       "Actinomycetota                         980.0    70\n",
       "Desulfobacterota                       834.0    29\n",
       "Elusimicrobiota                         89.0     8\n",
       "Bacillota_B                             67.0     9\n",
       "Spirochaetota                           33.0    10\n",
       "Campylobacterota                        19.0    12\n",
       "Bacillota_G                             14.0     1\n",
       "Synergistota                            14.0     5\n",
       "Fusobacteriota                          10.0     7\n",
       "Myxococcota                              4.0     1\n",
       "Eremiobacterota                          2.0     1\n",
       "Fibrobacterota                           1.0     1\n",
       "Patescibacteria                          1.0     1"
      ]
     },
     "execution_count": 13,
     "metadata": {},
     "output_type": "execute_result"
    }
   ],
   "source": [
    "bst[['phylum','number_of_bins_per_cluster']].groupby(['phylum']).agg(['sum', 'count']).sort_values(by=('number_of_bins_per_cluster','sum'), ascending=False)\n"
   ]
  },
  {
   "cell_type": "code",
   "execution_count": 15,
   "metadata": {},
   "outputs": [
    {
     "data": {
      "text/html": [
       "<div>\n",
       "<style scoped>\n",
       "    .dataframe tbody tr th:only-of-type {\n",
       "        vertical-align: middle;\n",
       "    }\n",
       "\n",
       "    .dataframe tbody tr th {\n",
       "        vertical-align: top;\n",
       "    }\n",
       "\n",
       "    .dataframe thead tr th {\n",
       "        text-align: left;\n",
       "    }\n",
       "\n",
       "    .dataframe thead tr:last-of-type th {\n",
       "        text-align: right;\n",
       "    }\n",
       "</style>\n",
       "<table border=\"1\" class=\"dataframe\">\n",
       "  <thead>\n",
       "    <tr>\n",
       "      <th></th>\n",
       "      <th colspan=\"2\" halign=\"left\">number_of_bins_per_cluster</th>\n",
       "    </tr>\n",
       "    <tr>\n",
       "      <th></th>\n",
       "      <th>sum</th>\n",
       "      <th>count</th>\n",
       "    </tr>\n",
       "    <tr>\n",
       "      <th>genus</th>\n",
       "      <th></th>\n",
       "      <th></th>\n",
       "    </tr>\n",
       "  </thead>\n",
       "  <tbody>\n",
       "    <tr>\n",
       "      <th>Alistipes</th>\n",
       "      <td>2370.0</td>\n",
       "      <td>29</td>\n",
       "    </tr>\n",
       "    <tr>\n",
       "      <th>Parabacteroides</th>\n",
       "      <td>1755.0</td>\n",
       "      <td>14</td>\n",
       "    </tr>\n",
       "    <tr>\n",
       "      <th>Prevotella</th>\n",
       "      <td>1445.0</td>\n",
       "      <td>56</td>\n",
       "    </tr>\n",
       "    <tr>\n",
       "      <th>Odoribacter</th>\n",
       "      <td>1276.0</td>\n",
       "      <td>6</td>\n",
       "    </tr>\n",
       "    <tr>\n",
       "      <th>Agathobacter</th>\n",
       "      <td>1249.0</td>\n",
       "      <td>9</td>\n",
       "    </tr>\n",
       "    <tr>\n",
       "      <th>Ruminococcus_E</th>\n",
       "      <td>1228.0</td>\n",
       "      <td>7</td>\n",
       "    </tr>\n",
       "    <tr>\n",
       "      <th>Lachnospira</th>\n",
       "      <td>1136.0</td>\n",
       "      <td>11</td>\n",
       "    </tr>\n",
       "    <tr>\n",
       "      <th>Vescimonas</th>\n",
       "      <td>1133.0</td>\n",
       "      <td>26</td>\n",
       "    </tr>\n",
       "    <tr>\n",
       "      <th>Barnesiella</th>\n",
       "      <td>1090.0</td>\n",
       "      <td>2</td>\n",
       "    </tr>\n",
       "    <tr>\n",
       "      <th>Sutterella</th>\n",
       "      <td>1000.0</td>\n",
       "      <td>14</td>\n",
       "    </tr>\n",
       "  </tbody>\n",
       "</table>\n",
       "</div>"
      ],
      "text/plain": [
       "                number_of_bins_per_cluster      \n",
       "                                       sum count\n",
       "genus                                           \n",
       "Alistipes                           2370.0    29\n",
       "Parabacteroides                     1755.0    14\n",
       "Prevotella                          1445.0    56\n",
       "Odoribacter                         1276.0     6\n",
       "Agathobacter                        1249.0     9\n",
       "Ruminococcus_E                      1228.0     7\n",
       "Lachnospira                         1136.0    11\n",
       "Vescimonas                          1133.0    26\n",
       "Barnesiella                         1090.0     2\n",
       "Sutterella                          1000.0    14"
      ]
     },
     "execution_count": 15,
     "metadata": {},
     "output_type": "execute_result"
    }
   ],
   "source": [
    "bst[['genus','number_of_bins_per_cluster']].groupby(['genus']).agg(['sum', 'count']).sort_values(by=('number_of_bins_per_cluster','sum'), ascending=False).head(10)\n"
   ]
  },
  {
   "cell_type": "code",
   "execution_count": 19,
   "metadata": {},
   "outputs": [
    {
     "data": {
      "text/html": [
       "<div>\n",
       "<style scoped>\n",
       "    .dataframe tbody tr th:only-of-type {\n",
       "        vertical-align: middle;\n",
       "    }\n",
       "\n",
       "    .dataframe tbody tr th {\n",
       "        vertical-align: top;\n",
       "    }\n",
       "\n",
       "    .dataframe thead tr th {\n",
       "        text-align: left;\n",
       "    }\n",
       "\n",
       "    .dataframe thead tr:last-of-type th {\n",
       "        text-align: right;\n",
       "    }\n",
       "</style>\n",
       "<table border=\"1\" class=\"dataframe\">\n",
       "  <thead>\n",
       "    <tr>\n",
       "      <th></th>\n",
       "      <th colspan=\"2\" halign=\"left\">number_of_bins_per_cluster</th>\n",
       "    </tr>\n",
       "    <tr>\n",
       "      <th></th>\n",
       "      <th>sum</th>\n",
       "      <th>count</th>\n",
       "    </tr>\n",
       "    <tr>\n",
       "      <th>sp</th>\n",
       "      <th></th>\n",
       "      <th></th>\n",
       "    </tr>\n",
       "  </thead>\n",
       "  <tbody>\n",
       "    <tr>\n",
       "      <th>Odoribacter splanchnicus</th>\n",
       "      <td>1216.0</td>\n",
       "      <td>1</td>\n",
       "    </tr>\n",
       "    <tr>\n",
       "      <th>Barnesiella intestinihominis</th>\n",
       "      <td>1083.0</td>\n",
       "      <td>1</td>\n",
       "    </tr>\n",
       "    <tr>\n",
       "      <th>Parabacteroides distasonis</th>\n",
       "      <td>1032.0</td>\n",
       "      <td>1</td>\n",
       "    </tr>\n",
       "    <tr>\n",
       "      <th>Alistipes putredinis</th>\n",
       "      <td>935.0</td>\n",
       "      <td>1</td>\n",
       "    </tr>\n",
       "    <tr>\n",
       "      <th>Agathobacter rectalis</th>\n",
       "      <td>879.0</td>\n",
       "      <td>1</td>\n",
       "    </tr>\n",
       "    <tr>\n",
       "      <th>UBA11524 sp000437595</th>\n",
       "      <td>809.0</td>\n",
       "      <td>1</td>\n",
       "    </tr>\n",
       "    <tr>\n",
       "      <th>Ruminococcus_E bromii_B</th>\n",
       "      <td>806.0</td>\n",
       "      <td>1</td>\n",
       "    </tr>\n",
       "    <tr>\n",
       "      <th>Ruminococcus_D bicirculans</th>\n",
       "      <td>765.0</td>\n",
       "      <td>1</td>\n",
       "    </tr>\n",
       "    <tr>\n",
       "      <th>Paraprevotella clara</th>\n",
       "      <td>636.0</td>\n",
       "      <td>1</td>\n",
       "    </tr>\n",
       "    <tr>\n",
       "      <th>Akkermansia muciniphila</th>\n",
       "      <td>622.0</td>\n",
       "      <td>1</td>\n",
       "    </tr>\n",
       "  </tbody>\n",
       "</table>\n",
       "</div>"
      ],
      "text/plain": [
       "                             number_of_bins_per_cluster      \n",
       "                                                    sum count\n",
       "sp                                                           \n",
       "Odoribacter splanchnicus                         1216.0     1\n",
       "Barnesiella intestinihominis                     1083.0     1\n",
       "Parabacteroides distasonis                       1032.0     1\n",
       "Alistipes putredinis                              935.0     1\n",
       "Agathobacter rectalis                             879.0     1\n",
       "UBA11524 sp000437595                              809.0     1\n",
       "Ruminococcus_E bromii_B                           806.0     1\n",
       "Ruminococcus_D bicirculans                        765.0     1\n",
       "Paraprevotella clara                              636.0     1\n",
       "Akkermansia muciniphila                           622.0     1"
      ]
     },
     "execution_count": 19,
     "metadata": {},
     "output_type": "execute_result"
    }
   ],
   "source": [
    "sp = bst[['sp','number_of_bins_per_cluster']].groupby(['sp']).agg(['sum', 'count']).sort_values(by=('number_of_bins_per_cluster','sum'), ascending=False)\n",
    "sp.to_excel('FINAL_tables/top10_sp.xlsx')\n",
    "sp.head(10)"
   ]
  },
  {
   "cell_type": "code",
   "execution_count": 37,
   "metadata": {},
   "outputs": [
    {
     "data": {
      "text/html": [
       "<div>\n",
       "<style scoped>\n",
       "    .dataframe tbody tr th:only-of-type {\n",
       "        vertical-align: middle;\n",
       "    }\n",
       "\n",
       "    .dataframe tbody tr th {\n",
       "        vertical-align: top;\n",
       "    }\n",
       "\n",
       "    .dataframe thead tr th {\n",
       "        text-align: left;\n",
       "    }\n",
       "\n",
       "    .dataframe thead tr:last-of-type th {\n",
       "        text-align: right;\n",
       "    }\n",
       "</style>\n",
       "<table border=\"1\" class=\"dataframe\">\n",
       "  <thead>\n",
       "    <tr>\n",
       "      <th></th>\n",
       "      <th colspan=\"2\" halign=\"left\">number_of_bins_per_cluster</th>\n",
       "    </tr>\n",
       "    <tr>\n",
       "      <th></th>\n",
       "      <th>sum</th>\n",
       "      <th>count</th>\n",
       "    </tr>\n",
       "    <tr>\n",
       "      <th>sp</th>\n",
       "      <th></th>\n",
       "      <th></th>\n",
       "    </tr>\n",
       "  </thead>\n",
       "  <tbody>\n",
       "    <tr>\n",
       "      <th>Haemophilus_D parainfluenzae_K</th>\n",
       "      <td>19.0</td>\n",
       "      <td>4</td>\n",
       "    </tr>\n",
       "    <tr>\n",
       "      <th>Haemophilus_D sp900755445</th>\n",
       "      <td>10.0</td>\n",
       "      <td>4</td>\n",
       "    </tr>\n",
       "    <tr>\n",
       "      <th>Collinsella sp900541745</th>\n",
       "      <td>3.0</td>\n",
       "      <td>3</td>\n",
       "    </tr>\n",
       "    <tr>\n",
       "      <th>Collinsella sp900759435</th>\n",
       "      <td>2.0</td>\n",
       "      <td>2</td>\n",
       "    </tr>\n",
       "    <tr>\n",
       "      <th>CAG-475 sp000434435</th>\n",
       "      <td>176.0</td>\n",
       "      <td>2</td>\n",
       "    </tr>\n",
       "    <tr>\n",
       "      <th>UMGS1470 sp900552105</th>\n",
       "      <td>43.0</td>\n",
       "      <td>2</td>\n",
       "    </tr>\n",
       "    <tr>\n",
       "      <th>Ruminococcus_E bromii</th>\n",
       "      <td>53.0</td>\n",
       "      <td>2</td>\n",
       "    </tr>\n",
       "    <tr>\n",
       "      <th>UBA10281 sp900764105</th>\n",
       "      <td>20.0</td>\n",
       "      <td>2</td>\n",
       "    </tr>\n",
       "    <tr>\n",
       "      <th>Campylobacter_A concisus_T</th>\n",
       "      <td>2.0</td>\n",
       "      <td>2</td>\n",
       "    </tr>\n",
       "    <tr>\n",
       "      <th>Haemophilus_D sp001815355</th>\n",
       "      <td>53.0</td>\n",
       "      <td>2</td>\n",
       "    </tr>\n",
       "    <tr>\n",
       "      <th>Haemophilus_D parainfluenzae_L</th>\n",
       "      <td>14.0</td>\n",
       "      <td>2</td>\n",
       "    </tr>\n",
       "    <tr>\n",
       "      <th>Merdimorpha sp002314265</th>\n",
       "      <td>93.0</td>\n",
       "      <td>2</td>\n",
       "    </tr>\n",
       "  </tbody>\n",
       "</table>\n",
       "</div>"
      ],
      "text/plain": [
       "                               number_of_bins_per_cluster      \n",
       "                                                      sum count\n",
       "sp                                                             \n",
       "Haemophilus_D parainfluenzae_K                       19.0     4\n",
       "Haemophilus_D sp900755445                            10.0     4\n",
       "Collinsella sp900541745                               3.0     3\n",
       "Collinsella sp900759435                               2.0     2\n",
       "CAG-475 sp000434435                                 176.0     2\n",
       "UMGS1470 sp900552105                                 43.0     2\n",
       "Ruminococcus_E bromii                                53.0     2\n",
       "UBA10281 sp900764105                                 20.0     2\n",
       "Campylobacter_A concisus_T                            2.0     2\n",
       "Haemophilus_D sp001815355                            53.0     2\n",
       "Haemophilus_D parainfluenzae_L                       14.0     2\n",
       "Merdimorpha sp002314265                              93.0     2"
      ]
     },
     "execution_count": 37,
     "metadata": {},
     "output_type": "execute_result"
    }
   ],
   "source": [
    "sp.sort_values(by=('number_of_bins_per_cluster', 'count'), ascending=False).head(12)"
   ]
  },
  {
   "cell_type": "code",
   "execution_count": 24,
   "metadata": {},
   "outputs": [
    {
     "data": {
      "text/plain": [
       "Index(['best_cluster_genome', 'sample_name', 'completeness', 'contamination',\n",
       "       'strain_heterogeneity', 'length', 'N50', 'Bin_qual',\n",
       "       '1st_clustering_cluster', '1st_clustering_centrality',\n",
       "       '2nd_clustering_cluster', 'fastani_ani', 'closest_placement_reference',\n",
       "       'closest_placement_ani', 'domain', 'phylum', 'class', 'order', 'family',\n",
       "       'genus', 'sp', 'GTDBv214_taxa_notes', '2nd_clustering_cluster.1',\n",
       "       'number_of_bins_per_cluster', 'best_cluster_genome.1'],\n",
       "      dtype='object')"
      ]
     },
     "execution_count": 24,
     "metadata": {},
     "output_type": "execute_result"
    }
   ],
   "source": [
    "bst.columns"
   ]
  },
  {
   "cell_type": "code",
   "execution_count": 30,
   "metadata": {},
   "outputs": [
    {
     "data": {
      "application/vnd.plotly.v1+json": {
       "config": {
        "plotlyServerURL": "https://plot.ly"
       },
       "data": [
        {
         "branchvalues": "total",
         "domain": {
          "x": [
           0,
           1
          ],
          "y": [
           0,
           1
          ]
         },
         "hovertemplate": "labels=%{label}<br>number_of_bins_per_cluster=%{value}<br>parent=%{parent}<br>id=%{id}<extra></extra>",
         "ids": [
          "Bacteria/Pseudomonadota/Alphaproteobacteria/51-20",
          "Bacteria/Bacillota_A/Clostridia/Acetatifactor",
          "Bacteria/Bacillota_A/Clostridia/Agathobacter",
          "Bacteria/Verrucomicrobiota/Verrucomicrobiae/Akkermansia",
          "Bacteria/Bacteroidota/Bacteroidia/Alistipes",
          "Bacteria/Bacteroidota/Bacteroidia/Alistipes_A",
          "Bacteria/Bacteroidota/Bacteroidia/Alloprevotella",
          "Bacteria/Bacillota_A/Clostridia/Anaerostipes",
          "Bacteria/Bacillota_A/Clostridia/Anaerotignum",
          "Bacteria/Bacillota_A/Clostridia/Angelakisella",
          "Bacteria/Bacteroidota/Bacteroidia/Bacteroides",
          "Bacteria/Bacteroidota/Bacteroidia/Barnesiella",
          "Bacteria/Actinomycetota/Actinomycetia/Bifidobacterium",
          "Bacteria/Desulfobacterota/Desulfovibrionia/Bilophila",
          "Bacteria/Bacillota_A/Clostridia/Borkfalkia",
          "Bacteria/Bacillota_A/Clostridia/Butyribacter",
          "Bacteria/Bacteroidota/Bacteroidia/Butyricimonas",
          "Bacteria/Bacillota_A/Clostridia/Butyrivibrio_A",
          "Bacteria/Bacillota_A/Clostridia/CAG-103",
          "Bacteria/Bacillota_A/Clostridia/CAG-115",
          "Bacteria/Bacillota_A/Clostridia/CAG-177",
          "Bacteria/Cyanobacteriota/Vampirovibrionia/CAG-196",
          "Bacteria/Bacillota_A/Clostridia/CAG-217",
          "Bacteria/Bacillota_A/Clostridia/CAG-245",
          "Bacteria/Pseudomonadota/Alphaproteobacteria/CAG-267",
          "Bacteria/Bacillota_A/Clostridia/CAG-272",
          "Bacteria/Bacillota_A/Clostridia/CAG-273",
          "Bacteria/Bacillota/Bacilli/CAG-288",
          "Bacteria/Bacillota/Bacilli/CAG-302",
          "Bacteria/Bacillota/Bacilli/CAG-307",
          "Bacteria/Bacillota/Bacilli/CAG-313",
          "Bacteria/Bacillota_A/Clostridia/CAG-314",
          "Bacteria/Bacillota/Bacilli/CAG-345",
          "Bacteria/Bacillota_A/Clostridia/CAG-349",
          "Bacteria/Bacillota_A/Clostridia/CAG-353",
          "Bacteria/Bacillota_A/Clostridia/CAG-41",
          "Bacteria/Bacillota_A/Clostridia/CAG-448",
          "Bacteria/Bacillota_A/Clostridia/CAG-475",
          "Bacteria/Bacillota_A/Clostridia/CAG-488",
          "Bacteria/Bacillota/Bacilli/CAG-533",
          "Bacteria/Bacillota_A/Clostridia/CAG-552",
          "Bacteria/Bacillota/Bacilli/CAG-568",
          "Bacteria/Bacillota/Bacilli/CAG-628",
          "Bacteria/Bacteroidota/Bacteroidia/CAG-873",
          "Bacteria/Bacillota_A/Clostridia/CAG-882",
          "Bacteria/Bacillota_A/Clostridia/CAG-95",
          "Bacteria/Pseudomonadota/Alphaproteobacteria/CAZU01",
          "Bacteria/Bacillota_A/Clostridia/COE1",
          "Bacteria/Bacillota/Bacilli/Catenibacterium",
          "Bacteria/Bacillota_A/Clostridia/Clostridium_Q",
          "Bacteria/Actinomycetota/Coriobacteriia/Collinsella",
          "Bacteria/Bacteroidota/Bacteroidia/Coprobacter",
          "Bacteria/Bacillota_A/Clostridia/Coprococcus",
          "Bacteria/Bacteroidota/Bacteroidia/Cryptobacteroides",
          "Bacteria/Desulfobacterota/Desulfovibrionia/Desulfovibrio",
          "Bacteria/Bacillota_C/Negativicutes/Dialister",
          "Bacteria/Pseudomonadota/Gammaproteobacteria/Duodenibacillus",
          "Bacteria/Bacillota_A/Clostridia/Dysosmobacter",
          "Bacteria/Bacillota_A/Clostridia/ER4",
          "Bacteria/Bacillota_A/Clostridia/Eisenbergiella",
          "Bacteria/Pseudomonadota/Gammaproteobacteria/Escherichia",
          "Bacteria/Bacillota_A/Clostridia/Eubacterium_F",
          "Bacteria/Bacillota_A/Clostridia/Eubacterium_R",
          "Bacteria/Bacillota/Bacilli/Faecalibacillus",
          "Bacteria/Bacillota_A/Clostridia/Faecousia",
          "Bacteria/Bacillota_A/Clostridia/Fimenecus",
          "Bacteria/Bacillota_A/Clostridia/Fimimonas",
          "Bacteria/Bacillota_A/Clostridia/Fusicatenibacter",
          "Bacteria/Bacillota_A/Clostridia/Gemmiger",
          "Bacteria/Bacillota/Bacilli/Holdemanella",
          "Bacteria/Bacillota_A/Clostridia/KLE1615",
          "Bacteria/Bacillota_A/Clostridia/Lachnospira",
          "Bacteria/Bacteroidota/Bacteroidia/Limisoma",
          "Bacteria/Bacillota_A/Clostridia/Limivicinus",
          "Bacteria/Bacillota_A/Clostridia/Mediterraneibacter",
          "Bacteria/Verrucomicrobiota/Verrucomicrobiae/Merdousia",
          "Bacteria/Bacteroidota/Bacteroidia/Odoribacter",
          "Bacteria/Bacteroidota/Bacteroidia/Parabacteroides",
          "Bacteria/Bacteroidota/Bacteroidia/Paraprevotella",
          "Bacteria/Pseudomonadota/Gammaproteobacteria/Parasutterella",
          "Bacteria/Bacillota_A/Clostridia/PeH17",
          "Bacteria/Bacillota_C/Negativicutes/Phascolarctobacterium",
          "Bacteria/Bacillota_C/Negativicutes/Phascolarctobacterium_A",
          "Bacteria/Bacillota_A/Clostridia/Phil1",
          "Bacteria/Bacteroidota/Bacteroidia/Phocaeicola",
          "Bacteria/Bacteroidota/Bacteroidia/Prevotella",
          "Bacteria/Bacillota_A/Clostridia/RUG115",
          "Bacteria/Bacillota_A/Clostridia/Roseburia",
          "Bacteria/Bacillota_A/Clostridia/Ruminiclostridium_E",
          "Bacteria/Bacillota_A/Clostridia/Ruminococcus_C",
          "Bacteria/Bacillota_A/Clostridia/Ruminococcus_D",
          "Bacteria/Bacillota_A/Clostridia/Ruminococcus_E",
          "Bacteria/Bacillota_A/Clostridia/SFEL01",
          "Bacteria/Bacillota_A/Clostridia/SFMI01",
          "Bacteria/Pseudomonadota/Alphaproteobacteria/Scatacola_A",
          "Bacteria/Pseudomonadota/Alphaproteobacteria/Scatocola",
          "Bacteria/Bacillota_A/Clostridia/Scatosoma",
          "Bacteria/Cyanobacteriota/Vampirovibrionia/Stercorousia",
          "Bacteria/Pseudomonadota/Gammaproteobacteria/Sutterella",
          "Bacteria/Bacteroidota/Bacteroidia/Tidjanibacter",
          "Bacteria/Bacillota_A/Clostridia/UBA10281",
          "Bacteria/Bacillota_A/Clostridia/UBA10677",
          "Bacteria/Verrucomicrobiota/Lentisphaeria/UBA11452",
          "Bacteria/Bacteroidota/Bacteroidia/UBA11471",
          "Bacteria/Bacillota_A/Clostridia/UBA11512",
          "Bacteria/Bacillota_A/Clostridia/UBA11524",
          "Bacteria/Bacillota_A/Clostridia/UBA1206",
          "Bacteria/Verrucomicrobiota/Lentisphaeria/UBA1829",
          "Bacteria/Bacteroidota/Bacteroidia/UBA6398",
          "Bacteria/Bacillota_A/Clostridia/UBA738",
          "Bacteria/Bacillota_A/Clostridia/UBA7597",
          "Bacteria/Bacillota_A/Clostridia/UMGS621",
          "Bacteria/Bacillota_A/Clostridia/UMGS902",
          "Bacteria/Bacillota_A/Clostridia/Ventricola",
          "Bacteria/Bacillota_A/Clostridia/Vescimonas",
          "Bacteria/Verrucomicrobiota/Lentisphaeria/Victivallis",
          "Bacteria/Bacillota_A/Clostridia/Wujia",
          "Bacteria/Actinomycetota/Actinomycetia",
          "Bacteria/Pseudomonadota/Alphaproteobacteria",
          "Bacteria/Bacillota/Bacilli",
          "Bacteria/Bacteroidota/Bacteroidia",
          "Bacteria/Bacillota_A/Clostridia",
          "Bacteria/Actinomycetota/Coriobacteriia",
          "Bacteria/Desulfobacterota/Desulfovibrionia",
          "Bacteria/Pseudomonadota/Gammaproteobacteria",
          "Bacteria/Verrucomicrobiota/Lentisphaeria",
          "Bacteria/Bacillota_C/Negativicutes",
          "Bacteria/Cyanobacteriota/Vampirovibrionia",
          "Bacteria/Verrucomicrobiota/Verrucomicrobiae",
          "Bacteria/Actinomycetota",
          "Bacteria/Bacillota",
          "Bacteria/Bacillota_A",
          "Bacteria/Bacillota_C",
          "Bacteria/Bacteroidota",
          "Bacteria/Cyanobacteriota",
          "Bacteria/Desulfobacterota",
          "Bacteria/Pseudomonadota",
          "Bacteria/Verrucomicrobiota",
          "Bacteria"
         ],
         "labels": [
          "51-20",
          "Acetatifactor",
          "Agathobacter",
          "Akkermansia",
          "Alistipes",
          "Alistipes_A",
          "Alloprevotella",
          "Anaerostipes",
          "Anaerotignum",
          "Angelakisella",
          "Bacteroides",
          "Barnesiella",
          "Bifidobacterium",
          "Bilophila",
          "Borkfalkia",
          "Butyribacter",
          "Butyricimonas",
          "Butyrivibrio_A",
          "CAG-103",
          "CAG-115",
          "CAG-177",
          "CAG-196",
          "CAG-217",
          "CAG-245",
          "CAG-267",
          "CAG-272",
          "CAG-273",
          "CAG-288",
          "CAG-302",
          "CAG-307",
          "CAG-313",
          "CAG-314",
          "CAG-345",
          "CAG-349",
          "CAG-353",
          "CAG-41",
          "CAG-448",
          "CAG-475",
          "CAG-488",
          "CAG-533",
          "CAG-552",
          "CAG-568",
          "CAG-628",
          "CAG-873",
          "CAG-882",
          "CAG-95",
          "CAZU01",
          "COE1",
          "Catenibacterium",
          "Clostridium_Q",
          "Collinsella",
          "Coprobacter",
          "Coprococcus",
          "Cryptobacteroides",
          "Desulfovibrio",
          "Dialister",
          "Duodenibacillus",
          "Dysosmobacter",
          "ER4",
          "Eisenbergiella",
          "Escherichia",
          "Eubacterium_F",
          "Eubacterium_R",
          "Faecalibacillus",
          "Faecousia",
          "Fimenecus",
          "Fimimonas",
          "Fusicatenibacter",
          "Gemmiger",
          "Holdemanella",
          "KLE1615",
          "Lachnospira",
          "Limisoma",
          "Limivicinus",
          "Mediterraneibacter",
          "Merdousia",
          "Odoribacter",
          "Parabacteroides",
          "Paraprevotella",
          "Parasutterella",
          "PeH17",
          "Phascolarctobacterium",
          "Phascolarctobacterium_A",
          "Phil1",
          "Phocaeicola",
          "Prevotella",
          "RUG115",
          "Roseburia",
          "Ruminiclostridium_E",
          "Ruminococcus_C",
          "Ruminococcus_D",
          "Ruminococcus_E",
          "SFEL01",
          "SFMI01",
          "Scatacola_A",
          "Scatocola",
          "Scatosoma",
          "Stercorousia",
          "Sutterella",
          "Tidjanibacter",
          "UBA10281",
          "UBA10677",
          "UBA11452",
          "UBA11471",
          "UBA11512",
          "UBA11524",
          "UBA1206",
          "UBA1829",
          "UBA6398",
          "UBA738",
          "UBA7597",
          "UMGS621",
          "UMGS902",
          "Ventricola",
          "Vescimonas",
          "Victivallis",
          "Wujia",
          "Actinomycetia",
          "Alphaproteobacteria",
          "Bacilli",
          "Bacteroidia",
          "Clostridia",
          "Coriobacteriia",
          "Desulfovibrionia",
          "Gammaproteobacteria",
          "Lentisphaeria",
          "Negativicutes",
          "Vampirovibrionia",
          "Verrucomicrobiae",
          "Actinomycetota",
          "Bacillota",
          "Bacillota_A",
          "Bacillota_C",
          "Bacteroidota",
          "Cyanobacteriota",
          "Desulfobacterota",
          "Pseudomonadota",
          "Verrucomicrobiota",
          "Bacteria"
         ],
         "name": "",
         "parents": [
          "Bacteria/Pseudomonadota/Alphaproteobacteria",
          "Bacteria/Bacillota_A/Clostridia",
          "Bacteria/Bacillota_A/Clostridia",
          "Bacteria/Verrucomicrobiota/Verrucomicrobiae",
          "Bacteria/Bacteroidota/Bacteroidia",
          "Bacteria/Bacteroidota/Bacteroidia",
          "Bacteria/Bacteroidota/Bacteroidia",
          "Bacteria/Bacillota_A/Clostridia",
          "Bacteria/Bacillota_A/Clostridia",
          "Bacteria/Bacillota_A/Clostridia",
          "Bacteria/Bacteroidota/Bacteroidia",
          "Bacteria/Bacteroidota/Bacteroidia",
          "Bacteria/Actinomycetota/Actinomycetia",
          "Bacteria/Desulfobacterota/Desulfovibrionia",
          "Bacteria/Bacillota_A/Clostridia",
          "Bacteria/Bacillota_A/Clostridia",
          "Bacteria/Bacteroidota/Bacteroidia",
          "Bacteria/Bacillota_A/Clostridia",
          "Bacteria/Bacillota_A/Clostridia",
          "Bacteria/Bacillota_A/Clostridia",
          "Bacteria/Bacillota_A/Clostridia",
          "Bacteria/Cyanobacteriota/Vampirovibrionia",
          "Bacteria/Bacillota_A/Clostridia",
          "Bacteria/Bacillota_A/Clostridia",
          "Bacteria/Pseudomonadota/Alphaproteobacteria",
          "Bacteria/Bacillota_A/Clostridia",
          "Bacteria/Bacillota_A/Clostridia",
          "Bacteria/Bacillota/Bacilli",
          "Bacteria/Bacillota/Bacilli",
          "Bacteria/Bacillota/Bacilli",
          "Bacteria/Bacillota/Bacilli",
          "Bacteria/Bacillota_A/Clostridia",
          "Bacteria/Bacillota/Bacilli",
          "Bacteria/Bacillota_A/Clostridia",
          "Bacteria/Bacillota_A/Clostridia",
          "Bacteria/Bacillota_A/Clostridia",
          "Bacteria/Bacillota_A/Clostridia",
          "Bacteria/Bacillota_A/Clostridia",
          "Bacteria/Bacillota_A/Clostridia",
          "Bacteria/Bacillota/Bacilli",
          "Bacteria/Bacillota_A/Clostridia",
          "Bacteria/Bacillota/Bacilli",
          "Bacteria/Bacillota/Bacilli",
          "Bacteria/Bacteroidota/Bacteroidia",
          "Bacteria/Bacillota_A/Clostridia",
          "Bacteria/Bacillota_A/Clostridia",
          "Bacteria/Pseudomonadota/Alphaproteobacteria",
          "Bacteria/Bacillota_A/Clostridia",
          "Bacteria/Bacillota/Bacilli",
          "Bacteria/Bacillota_A/Clostridia",
          "Bacteria/Actinomycetota/Coriobacteriia",
          "Bacteria/Bacteroidota/Bacteroidia",
          "Bacteria/Bacillota_A/Clostridia",
          "Bacteria/Bacteroidota/Bacteroidia",
          "Bacteria/Desulfobacterota/Desulfovibrionia",
          "Bacteria/Bacillota_C/Negativicutes",
          "Bacteria/Pseudomonadota/Gammaproteobacteria",
          "Bacteria/Bacillota_A/Clostridia",
          "Bacteria/Bacillota_A/Clostridia",
          "Bacteria/Bacillota_A/Clostridia",
          "Bacteria/Pseudomonadota/Gammaproteobacteria",
          "Bacteria/Bacillota_A/Clostridia",
          "Bacteria/Bacillota_A/Clostridia",
          "Bacteria/Bacillota/Bacilli",
          "Bacteria/Bacillota_A/Clostridia",
          "Bacteria/Bacillota_A/Clostridia",
          "Bacteria/Bacillota_A/Clostridia",
          "Bacteria/Bacillota_A/Clostridia",
          "Bacteria/Bacillota_A/Clostridia",
          "Bacteria/Bacillota/Bacilli",
          "Bacteria/Bacillota_A/Clostridia",
          "Bacteria/Bacillota_A/Clostridia",
          "Bacteria/Bacteroidota/Bacteroidia",
          "Bacteria/Bacillota_A/Clostridia",
          "Bacteria/Bacillota_A/Clostridia",
          "Bacteria/Verrucomicrobiota/Verrucomicrobiae",
          "Bacteria/Bacteroidota/Bacteroidia",
          "Bacteria/Bacteroidota/Bacteroidia",
          "Bacteria/Bacteroidota/Bacteroidia",
          "Bacteria/Pseudomonadota/Gammaproteobacteria",
          "Bacteria/Bacillota_A/Clostridia",
          "Bacteria/Bacillota_C/Negativicutes",
          "Bacteria/Bacillota_C/Negativicutes",
          "Bacteria/Bacillota_A/Clostridia",
          "Bacteria/Bacteroidota/Bacteroidia",
          "Bacteria/Bacteroidota/Bacteroidia",
          "Bacteria/Bacillota_A/Clostridia",
          "Bacteria/Bacillota_A/Clostridia",
          "Bacteria/Bacillota_A/Clostridia",
          "Bacteria/Bacillota_A/Clostridia",
          "Bacteria/Bacillota_A/Clostridia",
          "Bacteria/Bacillota_A/Clostridia",
          "Bacteria/Bacillota_A/Clostridia",
          "Bacteria/Bacillota_A/Clostridia",
          "Bacteria/Pseudomonadota/Alphaproteobacteria",
          "Bacteria/Pseudomonadota/Alphaproteobacteria",
          "Bacteria/Bacillota_A/Clostridia",
          "Bacteria/Cyanobacteriota/Vampirovibrionia",
          "Bacteria/Pseudomonadota/Gammaproteobacteria",
          "Bacteria/Bacteroidota/Bacteroidia",
          "Bacteria/Bacillota_A/Clostridia",
          "Bacteria/Bacillota_A/Clostridia",
          "Bacteria/Verrucomicrobiota/Lentisphaeria",
          "Bacteria/Bacteroidota/Bacteroidia",
          "Bacteria/Bacillota_A/Clostridia",
          "Bacteria/Bacillota_A/Clostridia",
          "Bacteria/Bacillota_A/Clostridia",
          "Bacteria/Verrucomicrobiota/Lentisphaeria",
          "Bacteria/Bacteroidota/Bacteroidia",
          "Bacteria/Bacillota_A/Clostridia",
          "Bacteria/Bacillota_A/Clostridia",
          "Bacteria/Bacillota_A/Clostridia",
          "Bacteria/Bacillota_A/Clostridia",
          "Bacteria/Bacillota_A/Clostridia",
          "Bacteria/Bacillota_A/Clostridia",
          "Bacteria/Verrucomicrobiota/Lentisphaeria",
          "Bacteria/Bacillota_A/Clostridia",
          "Bacteria/Actinomycetota",
          "Bacteria/Pseudomonadota",
          "Bacteria/Bacillota",
          "Bacteria/Bacteroidota",
          "Bacteria/Bacillota_A",
          "Bacteria/Actinomycetota",
          "Bacteria/Desulfobacterota",
          "Bacteria/Pseudomonadota",
          "Bacteria/Verrucomicrobiota",
          "Bacteria/Bacillota_C",
          "Bacteria/Cyanobacteriota",
          "Bacteria/Verrucomicrobiota",
          "Bacteria",
          "Bacteria",
          "Bacteria",
          "Bacteria",
          "Bacteria",
          "Bacteria",
          "Bacteria",
          "Bacteria",
          "Bacteria",
          ""
         ],
         "type": "sunburst",
         "values": [
          336,
          376,
          1189,
          622,
          2105,
          248,
          150,
          221,
          282,
          385,
          269,
          1083,
          320,
          410,
          110,
          276,
          499,
          246,
          206,
          417,
          600,
          351,
          415,
          163,
          143,
          105,
          139,
          269,
          329,
          264,
          528,
          297,
          179,
          435,
          344,
          141,
          344,
          175,
          113,
          113,
          305,
          118,
          254,
          123,
          149,
          352,
          178,
          101,
          248,
          113,
          247,
          237,
          516,
          641,
          113,
          181,
          536,
          324,
          859,
          180,
          231,
          503,
          595,
          139,
          123,
          372,
          135,
          350,
          465,
          149,
          112,
          856,
          541,
          128,
          114,
          290,
          1216,
          1547,
          636,
          372,
          351,
          312,
          439,
          286,
          314,
          635,
          247,
          416,
          547,
          135,
          765,
          1125,
          424,
          208,
          370,
          206,
          253,
          115,
          949,
          276,
          136,
          220,
          191,
          285,
          230,
          809,
          120,
          121,
          219,
          152,
          215,
          132,
          101,
          120,
          621,
          126,
          359,
          320,
          1233,
          2590,
          11024,
          21603,
          247,
          523,
          2088,
          438,
          932,
          466,
          912,
          567,
          2590,
          21603,
          932,
          11024,
          466,
          523,
          3321,
          1350,
          42376
         ]
        }
       ],
       "layout": {
        "height": 750,
        "legend": {
         "tracegroupgap": 0
        },
        "template": {
         "data": {
          "bar": [
           {
            "error_x": {
             "color": "#2a3f5f"
            },
            "error_y": {
             "color": "#2a3f5f"
            },
            "marker": {
             "line": {
              "color": "#E5ECF6",
              "width": 0.5
             },
             "pattern": {
              "fillmode": "overlay",
              "size": 10,
              "solidity": 0.2
             }
            },
            "type": "bar"
           }
          ],
          "barpolar": [
           {
            "marker": {
             "line": {
              "color": "#E5ECF6",
              "width": 0.5
             },
             "pattern": {
              "fillmode": "overlay",
              "size": 10,
              "solidity": 0.2
             }
            },
            "type": "barpolar"
           }
          ],
          "carpet": [
           {
            "aaxis": {
             "endlinecolor": "#2a3f5f",
             "gridcolor": "white",
             "linecolor": "white",
             "minorgridcolor": "white",
             "startlinecolor": "#2a3f5f"
            },
            "baxis": {
             "endlinecolor": "#2a3f5f",
             "gridcolor": "white",
             "linecolor": "white",
             "minorgridcolor": "white",
             "startlinecolor": "#2a3f5f"
            },
            "type": "carpet"
           }
          ],
          "choropleth": [
           {
            "colorbar": {
             "outlinewidth": 0,
             "ticks": ""
            },
            "type": "choropleth"
           }
          ],
          "contour": [
           {
            "colorbar": {
             "outlinewidth": 0,
             "ticks": ""
            },
            "colorscale": [
             [
              0,
              "#0d0887"
             ],
             [
              0.1111111111111111,
              "#46039f"
             ],
             [
              0.2222222222222222,
              "#7201a8"
             ],
             [
              0.3333333333333333,
              "#9c179e"
             ],
             [
              0.4444444444444444,
              "#bd3786"
             ],
             [
              0.5555555555555556,
              "#d8576b"
             ],
             [
              0.6666666666666666,
              "#ed7953"
             ],
             [
              0.7777777777777778,
              "#fb9f3a"
             ],
             [
              0.8888888888888888,
              "#fdca26"
             ],
             [
              1,
              "#f0f921"
             ]
            ],
            "type": "contour"
           }
          ],
          "contourcarpet": [
           {
            "colorbar": {
             "outlinewidth": 0,
             "ticks": ""
            },
            "type": "contourcarpet"
           }
          ],
          "heatmap": [
           {
            "colorbar": {
             "outlinewidth": 0,
             "ticks": ""
            },
            "colorscale": [
             [
              0,
              "#0d0887"
             ],
             [
              0.1111111111111111,
              "#46039f"
             ],
             [
              0.2222222222222222,
              "#7201a8"
             ],
             [
              0.3333333333333333,
              "#9c179e"
             ],
             [
              0.4444444444444444,
              "#bd3786"
             ],
             [
              0.5555555555555556,
              "#d8576b"
             ],
             [
              0.6666666666666666,
              "#ed7953"
             ],
             [
              0.7777777777777778,
              "#fb9f3a"
             ],
             [
              0.8888888888888888,
              "#fdca26"
             ],
             [
              1,
              "#f0f921"
             ]
            ],
            "type": "heatmap"
           }
          ],
          "heatmapgl": [
           {
            "colorbar": {
             "outlinewidth": 0,
             "ticks": ""
            },
            "colorscale": [
             [
              0,
              "#0d0887"
             ],
             [
              0.1111111111111111,
              "#46039f"
             ],
             [
              0.2222222222222222,
              "#7201a8"
             ],
             [
              0.3333333333333333,
              "#9c179e"
             ],
             [
              0.4444444444444444,
              "#bd3786"
             ],
             [
              0.5555555555555556,
              "#d8576b"
             ],
             [
              0.6666666666666666,
              "#ed7953"
             ],
             [
              0.7777777777777778,
              "#fb9f3a"
             ],
             [
              0.8888888888888888,
              "#fdca26"
             ],
             [
              1,
              "#f0f921"
             ]
            ],
            "type": "heatmapgl"
           }
          ],
          "histogram": [
           {
            "marker": {
             "pattern": {
              "fillmode": "overlay",
              "size": 10,
              "solidity": 0.2
             }
            },
            "type": "histogram"
           }
          ],
          "histogram2d": [
           {
            "colorbar": {
             "outlinewidth": 0,
             "ticks": ""
            },
            "colorscale": [
             [
              0,
              "#0d0887"
             ],
             [
              0.1111111111111111,
              "#46039f"
             ],
             [
              0.2222222222222222,
              "#7201a8"
             ],
             [
              0.3333333333333333,
              "#9c179e"
             ],
             [
              0.4444444444444444,
              "#bd3786"
             ],
             [
              0.5555555555555556,
              "#d8576b"
             ],
             [
              0.6666666666666666,
              "#ed7953"
             ],
             [
              0.7777777777777778,
              "#fb9f3a"
             ],
             [
              0.8888888888888888,
              "#fdca26"
             ],
             [
              1,
              "#f0f921"
             ]
            ],
            "type": "histogram2d"
           }
          ],
          "histogram2dcontour": [
           {
            "colorbar": {
             "outlinewidth": 0,
             "ticks": ""
            },
            "colorscale": [
             [
              0,
              "#0d0887"
             ],
             [
              0.1111111111111111,
              "#46039f"
             ],
             [
              0.2222222222222222,
              "#7201a8"
             ],
             [
              0.3333333333333333,
              "#9c179e"
             ],
             [
              0.4444444444444444,
              "#bd3786"
             ],
             [
              0.5555555555555556,
              "#d8576b"
             ],
             [
              0.6666666666666666,
              "#ed7953"
             ],
             [
              0.7777777777777778,
              "#fb9f3a"
             ],
             [
              0.8888888888888888,
              "#fdca26"
             ],
             [
              1,
              "#f0f921"
             ]
            ],
            "type": "histogram2dcontour"
           }
          ],
          "mesh3d": [
           {
            "colorbar": {
             "outlinewidth": 0,
             "ticks": ""
            },
            "type": "mesh3d"
           }
          ],
          "parcoords": [
           {
            "line": {
             "colorbar": {
              "outlinewidth": 0,
              "ticks": ""
             }
            },
            "type": "parcoords"
           }
          ],
          "pie": [
           {
            "automargin": true,
            "type": "pie"
           }
          ],
          "scatter": [
           {
            "fillpattern": {
             "fillmode": "overlay",
             "size": 10,
             "solidity": 0.2
            },
            "type": "scatter"
           }
          ],
          "scatter3d": [
           {
            "line": {
             "colorbar": {
              "outlinewidth": 0,
              "ticks": ""
             }
            },
            "marker": {
             "colorbar": {
              "outlinewidth": 0,
              "ticks": ""
             }
            },
            "type": "scatter3d"
           }
          ],
          "scattercarpet": [
           {
            "marker": {
             "colorbar": {
              "outlinewidth": 0,
              "ticks": ""
             }
            },
            "type": "scattercarpet"
           }
          ],
          "scattergeo": [
           {
            "marker": {
             "colorbar": {
              "outlinewidth": 0,
              "ticks": ""
             }
            },
            "type": "scattergeo"
           }
          ],
          "scattergl": [
           {
            "marker": {
             "colorbar": {
              "outlinewidth": 0,
              "ticks": ""
             }
            },
            "type": "scattergl"
           }
          ],
          "scattermapbox": [
           {
            "marker": {
             "colorbar": {
              "outlinewidth": 0,
              "ticks": ""
             }
            },
            "type": "scattermapbox"
           }
          ],
          "scatterpolar": [
           {
            "marker": {
             "colorbar": {
              "outlinewidth": 0,
              "ticks": ""
             }
            },
            "type": "scatterpolar"
           }
          ],
          "scatterpolargl": [
           {
            "marker": {
             "colorbar": {
              "outlinewidth": 0,
              "ticks": ""
             }
            },
            "type": "scatterpolargl"
           }
          ],
          "scatterternary": [
           {
            "marker": {
             "colorbar": {
              "outlinewidth": 0,
              "ticks": ""
             }
            },
            "type": "scatterternary"
           }
          ],
          "surface": [
           {
            "colorbar": {
             "outlinewidth": 0,
             "ticks": ""
            },
            "colorscale": [
             [
              0,
              "#0d0887"
             ],
             [
              0.1111111111111111,
              "#46039f"
             ],
             [
              0.2222222222222222,
              "#7201a8"
             ],
             [
              0.3333333333333333,
              "#9c179e"
             ],
             [
              0.4444444444444444,
              "#bd3786"
             ],
             [
              0.5555555555555556,
              "#d8576b"
             ],
             [
              0.6666666666666666,
              "#ed7953"
             ],
             [
              0.7777777777777778,
              "#fb9f3a"
             ],
             [
              0.8888888888888888,
              "#fdca26"
             ],
             [
              1,
              "#f0f921"
             ]
            ],
            "type": "surface"
           }
          ],
          "table": [
           {
            "cells": {
             "fill": {
              "color": "#EBF0F8"
             },
             "line": {
              "color": "white"
             }
            },
            "header": {
             "fill": {
              "color": "#C8D4E3"
             },
             "line": {
              "color": "white"
             }
            },
            "type": "table"
           }
          ]
         },
         "layout": {
          "annotationdefaults": {
           "arrowcolor": "#2a3f5f",
           "arrowhead": 0,
           "arrowwidth": 1
          },
          "autotypenumbers": "strict",
          "coloraxis": {
           "colorbar": {
            "outlinewidth": 0,
            "ticks": ""
           }
          },
          "colorscale": {
           "diverging": [
            [
             0,
             "#8e0152"
            ],
            [
             0.1,
             "#c51b7d"
            ],
            [
             0.2,
             "#de77ae"
            ],
            [
             0.3,
             "#f1b6da"
            ],
            [
             0.4,
             "#fde0ef"
            ],
            [
             0.5,
             "#f7f7f7"
            ],
            [
             0.6,
             "#e6f5d0"
            ],
            [
             0.7,
             "#b8e186"
            ],
            [
             0.8,
             "#7fbc41"
            ],
            [
             0.9,
             "#4d9221"
            ],
            [
             1,
             "#276419"
            ]
           ],
           "sequential": [
            [
             0,
             "#0d0887"
            ],
            [
             0.1111111111111111,
             "#46039f"
            ],
            [
             0.2222222222222222,
             "#7201a8"
            ],
            [
             0.3333333333333333,
             "#9c179e"
            ],
            [
             0.4444444444444444,
             "#bd3786"
            ],
            [
             0.5555555555555556,
             "#d8576b"
            ],
            [
             0.6666666666666666,
             "#ed7953"
            ],
            [
             0.7777777777777778,
             "#fb9f3a"
            ],
            [
             0.8888888888888888,
             "#fdca26"
            ],
            [
             1,
             "#f0f921"
            ]
           ],
           "sequentialminus": [
            [
             0,
             "#0d0887"
            ],
            [
             0.1111111111111111,
             "#46039f"
            ],
            [
             0.2222222222222222,
             "#7201a8"
            ],
            [
             0.3333333333333333,
             "#9c179e"
            ],
            [
             0.4444444444444444,
             "#bd3786"
            ],
            [
             0.5555555555555556,
             "#d8576b"
            ],
            [
             0.6666666666666666,
             "#ed7953"
            ],
            [
             0.7777777777777778,
             "#fb9f3a"
            ],
            [
             0.8888888888888888,
             "#fdca26"
            ],
            [
             1,
             "#f0f921"
            ]
           ]
          },
          "colorway": [
           "#636efa",
           "#EF553B",
           "#00cc96",
           "#ab63fa",
           "#FFA15A",
           "#19d3f3",
           "#FF6692",
           "#B6E880",
           "#FF97FF",
           "#FECB52"
          ],
          "font": {
           "color": "#2a3f5f"
          },
          "geo": {
           "bgcolor": "white",
           "lakecolor": "white",
           "landcolor": "#E5ECF6",
           "showlakes": true,
           "showland": true,
           "subunitcolor": "white"
          },
          "hoverlabel": {
           "align": "left"
          },
          "hovermode": "closest",
          "mapbox": {
           "style": "light"
          },
          "paper_bgcolor": "white",
          "plot_bgcolor": "#E5ECF6",
          "polar": {
           "angularaxis": {
            "gridcolor": "white",
            "linecolor": "white",
            "ticks": ""
           },
           "bgcolor": "#E5ECF6",
           "radialaxis": {
            "gridcolor": "white",
            "linecolor": "white",
            "ticks": ""
           }
          },
          "scene": {
           "xaxis": {
            "backgroundcolor": "#E5ECF6",
            "gridcolor": "white",
            "gridwidth": 2,
            "linecolor": "white",
            "showbackground": true,
            "ticks": "",
            "zerolinecolor": "white"
           },
           "yaxis": {
            "backgroundcolor": "#E5ECF6",
            "gridcolor": "white",
            "gridwidth": 2,
            "linecolor": "white",
            "showbackground": true,
            "ticks": "",
            "zerolinecolor": "white"
           },
           "zaxis": {
            "backgroundcolor": "#E5ECF6",
            "gridcolor": "white",
            "gridwidth": 2,
            "linecolor": "white",
            "showbackground": true,
            "ticks": "",
            "zerolinecolor": "white"
           }
          },
          "shapedefaults": {
           "line": {
            "color": "#2a3f5f"
           }
          },
          "ternary": {
           "aaxis": {
            "gridcolor": "white",
            "linecolor": "white",
            "ticks": ""
           },
           "baxis": {
            "gridcolor": "white",
            "linecolor": "white",
            "ticks": ""
           },
           "bgcolor": "#E5ECF6",
           "caxis": {
            "gridcolor": "white",
            "linecolor": "white",
            "ticks": ""
           }
          },
          "title": {
           "x": 0.05
          },
          "xaxis": {
           "automargin": true,
           "gridcolor": "white",
           "linecolor": "white",
           "ticks": "",
           "title": {
            "standoff": 15
           },
           "zerolinecolor": "white",
           "zerolinewidth": 2
          },
          "yaxis": {
           "automargin": true,
           "gridcolor": "white",
           "linecolor": "white",
           "ticks": "",
           "title": {
            "standoff": 15
           },
           "zerolinecolor": "white",
           "zerolinewidth": 2
          }
         }
        },
        "title": {
         "text": "Final CLUSTRS best genome, \n GTDB, release214"
        },
        "width": 750
       }
      }
     },
     "metadata": {},
     "output_type": "display_data"
    }
   ],
   "source": [
    "bst1 = bst[bst['number_of_bins_per_cluster'] > 100]\n",
    "\n",
    "fig = px.sunburst(\n",
    "    bst1,\n",
    "    path=['domain','phylum','class', 'genus'],\n",
    "    values='number_of_bins_per_cluster',\n",
    "    title=\"Final CLUSTRS best genome, \\n GTDB, release214\",\n",
    "    width=750, \n",
    "    height=750\n",
    ")\n",
    "\n",
    "fig.write_html(\"taxa_results/Final_CLUSTRS_best_Phy1.html\")\n",
    "fig.show()"
   ]
  },
  {
   "attachments": {},
   "cell_type": "markdown",
   "metadata": {},
   "source": [
    "## Making a matrix"
   ]
  },
  {
   "cell_type": "code",
   "execution_count": 38,
   "metadata": {},
   "outputs": [
    {
     "data": {
      "text/html": [
       "<div>\n",
       "<style scoped>\n",
       "    .dataframe tbody tr th:only-of-type {\n",
       "        vertical-align: middle;\n",
       "    }\n",
       "\n",
       "    .dataframe tbody tr th {\n",
       "        vertical-align: top;\n",
       "    }\n",
       "\n",
       "    .dataframe thead th {\n",
       "        text-align: right;\n",
       "    }\n",
       "</style>\n",
       "<table border=\"1\" class=\"dataframe\">\n",
       "  <thead>\n",
       "    <tr style=\"text-align: right;\">\n",
       "      <th></th>\n",
       "      <th>best_cluster_genome</th>\n",
       "      <th>sample_name</th>\n",
       "      <th>completeness</th>\n",
       "      <th>contamination</th>\n",
       "      <th>strain_heterogeneity</th>\n",
       "      <th>length</th>\n",
       "      <th>N50</th>\n",
       "      <th>Bin_qual</th>\n",
       "      <th>1st_clustering_cluster</th>\n",
       "      <th>1st_clustering_centrality</th>\n",
       "      <th>...</th>\n",
       "      <th>phylum</th>\n",
       "      <th>class</th>\n",
       "      <th>order</th>\n",
       "      <th>family</th>\n",
       "      <th>genus</th>\n",
       "      <th>sp</th>\n",
       "      <th>GTDBv214_taxa_notes</th>\n",
       "      <th>2nd_clustering_cluster.1</th>\n",
       "      <th>number_of_bins_per_cluster</th>\n",
       "      <th>best_cluster_genome.1</th>\n",
       "    </tr>\n",
       "  </thead>\n",
       "  <tbody>\n",
       "    <tr>\n",
       "      <th>0</th>\n",
       "      <td>VLB6XN_256644.fa</td>\n",
       "      <td>VLB6XN</td>\n",
       "      <td>96.55</td>\n",
       "      <td>3.45</td>\n",
       "      <td>0.0</td>\n",
       "      <td>2869579</td>\n",
       "      <td>106856</td>\n",
       "      <td>HQ</td>\n",
       "      <td>p1-629_1</td>\n",
       "      <td>0.000000</td>\n",
       "      <td>...</td>\n",
       "      <td>Bacillota_A</td>\n",
       "      <td>Clostridia</td>\n",
       "      <td>Lachnospirales</td>\n",
       "      <td>Lachnospiraceae</td>\n",
       "      <td>14-2</td>\n",
       "      <td>14-2 sp012519695</td>\n",
       "      <td>NaN</td>\n",
       "      <td>1030_1</td>\n",
       "      <td>1.0</td>\n",
       "      <td>VLB6XN_256644.fa</td>\n",
       "    </tr>\n",
       "    <tr>\n",
       "      <th>1</th>\n",
       "      <td>VDFRDM_metabat.13.fa</td>\n",
       "      <td>VDFRDM</td>\n",
       "      <td>89.66</td>\n",
       "      <td>0.00</td>\n",
       "      <td>0.0</td>\n",
       "      <td>3369048</td>\n",
       "      <td>49428</td>\n",
       "      <td>MQ</td>\n",
       "      <td>p5-586_1</td>\n",
       "      <td>0.000000</td>\n",
       "      <td>...</td>\n",
       "      <td>Bacillota_A</td>\n",
       "      <td>Clostridia</td>\n",
       "      <td>Lachnospirales</td>\n",
       "      <td>Lachnospiraceae</td>\n",
       "      <td>14-2</td>\n",
       "      <td>14-2 sp934434905</td>\n",
       "      <td>NaN</td>\n",
       "      <td>1347_1</td>\n",
       "      <td>2.0</td>\n",
       "      <td>VDFRDM_metabat.13.fa</td>\n",
       "    </tr>\n",
       "    <tr>\n",
       "      <th>2</th>\n",
       "      <td>V46NG6_metabat.195.fa</td>\n",
       "      <td>V46NG6</td>\n",
       "      <td>94.83</td>\n",
       "      <td>1.72</td>\n",
       "      <td>0.0</td>\n",
       "      <td>2722708</td>\n",
       "      <td>65737</td>\n",
       "      <td>HQ</td>\n",
       "      <td>p1-590_1</td>\n",
       "      <td>0.992862</td>\n",
       "      <td>...</td>\n",
       "      <td>Bacillota_A</td>\n",
       "      <td>Clostridia</td>\n",
       "      <td>Lachnospirales</td>\n",
       "      <td>Lachnospiraceae</td>\n",
       "      <td>1XD42-69</td>\n",
       "      <td>1XD42-69 sp014287635</td>\n",
       "      <td>NaN</td>\n",
       "      <td>1034_1</td>\n",
       "      <td>3.0</td>\n",
       "      <td>V46NG6_metabat.195.fa</td>\n",
       "    </tr>\n",
       "    <tr>\n",
       "      <th>3</th>\n",
       "      <td>VUXZVX_metabat.11.fa</td>\n",
       "      <td>VUXZVX</td>\n",
       "      <td>100.00</td>\n",
       "      <td>0.00</td>\n",
       "      <td>0.0</td>\n",
       "      <td>3396239</td>\n",
       "      <td>73743</td>\n",
       "      <td>HQ</td>\n",
       "      <td>p9-351_1</td>\n",
       "      <td>0.981881</td>\n",
       "      <td>...</td>\n",
       "      <td>Bacteroidota</td>\n",
       "      <td>Bacteroidia</td>\n",
       "      <td>Bacteroidales</td>\n",
       "      <td>Bacteroidaceae</td>\n",
       "      <td>43-108</td>\n",
       "      <td>43-108 sp001915545</td>\n",
       "      <td>NaN</td>\n",
       "      <td>841_1</td>\n",
       "      <td>12.0</td>\n",
       "      <td>VUXZVX_metabat.11.fa</td>\n",
       "    </tr>\n",
       "    <tr>\n",
       "      <th>4</th>\n",
       "      <td>VQQ90U_vamb.11929.fa</td>\n",
       "      <td>VQQ90U</td>\n",
       "      <td>98.28</td>\n",
       "      <td>0.00</td>\n",
       "      <td>0.0</td>\n",
       "      <td>2006803</td>\n",
       "      <td>105959</td>\n",
       "      <td>HQ</td>\n",
       "      <td>p8-208_1</td>\n",
       "      <td>0.987006</td>\n",
       "      <td>...</td>\n",
       "      <td>Pseudomonadota</td>\n",
       "      <td>Alphaproteobacteria</td>\n",
       "      <td>RF32</td>\n",
       "      <td>CAG-239</td>\n",
       "      <td>51-20</td>\n",
       "      <td>51-20 sp001917175</td>\n",
       "      <td>NaN</td>\n",
       "      <td>30_1</td>\n",
       "      <td>336.0</td>\n",
       "      <td>VQQ90U_vamb.11929.fa</td>\n",
       "    </tr>\n",
       "  </tbody>\n",
       "</table>\n",
       "<p>5 rows × 25 columns</p>\n",
       "</div>"
      ],
      "text/plain": [
       "     best_cluster_genome sample_name  completeness  contamination  \\\n",
       "0       VLB6XN_256644.fa      VLB6XN         96.55           3.45   \n",
       "1   VDFRDM_metabat.13.fa      VDFRDM         89.66           0.00   \n",
       "2  V46NG6_metabat.195.fa      V46NG6         94.83           1.72   \n",
       "3   VUXZVX_metabat.11.fa      VUXZVX        100.00           0.00   \n",
       "4   VQQ90U_vamb.11929.fa      VQQ90U         98.28           0.00   \n",
       "\n",
       "   strain_heterogeneity   length     N50 Bin_qual 1st_clustering_cluster  \\\n",
       "0                   0.0  2869579  106856       HQ               p1-629_1   \n",
       "1                   0.0  3369048   49428       MQ               p5-586_1   \n",
       "2                   0.0  2722708   65737       HQ               p1-590_1   \n",
       "3                   0.0  3396239   73743       HQ               p9-351_1   \n",
       "4                   0.0  2006803  105959       HQ               p8-208_1   \n",
       "\n",
       "   1st_clustering_centrality  ...          phylum                class  \\\n",
       "0                   0.000000  ...     Bacillota_A           Clostridia   \n",
       "1                   0.000000  ...     Bacillota_A           Clostridia   \n",
       "2                   0.992862  ...     Bacillota_A           Clostridia   \n",
       "3                   0.981881  ...    Bacteroidota          Bacteroidia   \n",
       "4                   0.987006  ...  Pseudomonadota  Alphaproteobacteria   \n",
       "\n",
       "            order           family     genus                    sp  \\\n",
       "0  Lachnospirales  Lachnospiraceae      14-2      14-2 sp012519695   \n",
       "1  Lachnospirales  Lachnospiraceae      14-2      14-2 sp934434905   \n",
       "2  Lachnospirales  Lachnospiraceae  1XD42-69  1XD42-69 sp014287635   \n",
       "3   Bacteroidales   Bacteroidaceae    43-108    43-108 sp001915545   \n",
       "4            RF32          CAG-239     51-20     51-20 sp001917175   \n",
       "\n",
       "  GTDBv214_taxa_notes 2nd_clustering_cluster.1 number_of_bins_per_cluster  \\\n",
       "0                 NaN                   1030_1                        1.0   \n",
       "1                 NaN                   1347_1                        2.0   \n",
       "2                 NaN                   1034_1                        3.0   \n",
       "3                 NaN                    841_1                       12.0   \n",
       "4                 NaN                     30_1                      336.0   \n",
       "\n",
       "   best_cluster_genome.1  \n",
       "0       VLB6XN_256644.fa  \n",
       "1   VDFRDM_metabat.13.fa  \n",
       "2  V46NG6_metabat.195.fa  \n",
       "3   VUXZVX_metabat.11.fa  \n",
       "4   VQQ90U_vamb.11929.fa  \n",
       "\n",
       "[5 rows x 25 columns]"
      ]
     },
     "execution_count": 38,
     "metadata": {},
     "output_type": "execute_result"
    }
   ],
   "source": [
    "bst.head()"
   ]
  },
  {
   "cell_type": "code",
   "execution_count": 51,
   "metadata": {},
   "outputs": [
    {
     "name": "stderr",
     "output_type": "stream",
     "text": [
      "/var/folders/5j/pvj6k02n3mn9ztpn77vjtfzw0000gn/T/ipykernel_15948/2654741277.py:2: SettingWithCopyWarning:\n",
      "\n",
      "\n",
      "A value is trying to be set on a copy of a slice from a DataFrame.\n",
      "Try using .loc[row_indexer,col_indexer] = value instead\n",
      "\n",
      "See the caveats in the documentation: https://pandas.pydata.org/pandas-docs/stable/user_guide/indexing.html#returning-a-view-versus-a-copy\n",
      "\n"
     ]
    },
    {
     "data": {
      "text/html": [
       "<div>\n",
       "<style scoped>\n",
       "    .dataframe tbody tr th:only-of-type {\n",
       "        vertical-align: middle;\n",
       "    }\n",
       "\n",
       "    .dataframe tbody tr th {\n",
       "        vertical-align: top;\n",
       "    }\n",
       "\n",
       "    .dataframe thead th {\n",
       "        text-align: right;\n",
       "    }\n",
       "</style>\n",
       "<table border=\"1\" class=\"dataframe\">\n",
       "  <thead>\n",
       "    <tr style=\"text-align: right;\">\n",
       "      <th></th>\n",
       "      <th>sample_name</th>\n",
       "      <th>cluster</th>\n",
       "    </tr>\n",
       "  </thead>\n",
       "  <tbody>\n",
       "    <tr>\n",
       "      <th>0</th>\n",
       "      <td>VLB6XN</td>\n",
       "      <td>14-2-VLB6XN_256644.fa</td>\n",
       "    </tr>\n",
       "    <tr>\n",
       "      <th>1</th>\n",
       "      <td>VDFRDM</td>\n",
       "      <td>14-2-VDFRDM_metabat.13.fa</td>\n",
       "    </tr>\n",
       "    <tr>\n",
       "      <th>2</th>\n",
       "      <td>V46NG6</td>\n",
       "      <td>1XD42-69-V46NG6_metabat.195.fa</td>\n",
       "    </tr>\n",
       "    <tr>\n",
       "      <th>3</th>\n",
       "      <td>VUXZVX</td>\n",
       "      <td>43-108-VUXZVX_metabat.11.fa</td>\n",
       "    </tr>\n",
       "    <tr>\n",
       "      <th>4</th>\n",
       "      <td>VQQ90U</td>\n",
       "      <td>51-20-VQQ90U_vamb.11929.fa</td>\n",
       "    </tr>\n",
       "  </tbody>\n",
       "</table>\n",
       "</div>"
      ],
      "text/plain": [
       "  sample_name                         cluster\n",
       "0      VLB6XN           14-2-VLB6XN_256644.fa\n",
       "1      VDFRDM       14-2-VDFRDM_metabat.13.fa\n",
       "2      V46NG6  1XD42-69-V46NG6_metabat.195.fa\n",
       "3      VUXZVX     43-108-VUXZVX_metabat.11.fa\n",
       "4      VQQ90U      51-20-VQQ90U_vamb.11929.fa"
      ]
     },
     "execution_count": 51,
     "metadata": {},
     "output_type": "execute_result"
    }
   ],
   "source": [
    "bst_m = bst[['sample_name','genus','best_cluster_genome']]\n",
    "bst_m['cluster'] = bst_m['genus']+'-'+bst_m['best_cluster_genome']\n",
    "\n",
    "bst_m = bst_m[['sample_name','cluster']]\n",
    "bst_m = bst_m.drop_duplicates()\n",
    "bst_m.head()"
   ]
  },
  {
   "cell_type": "code",
   "execution_count": 72,
   "metadata": {},
   "outputs": [],
   "source": [
    "matrix = bst_m.pivot(index='cluster', columns='sample_name', values='cluster')\n",
    "#matrix_filled = matrix.where(matrix.notna(), 1).fillna(0)\n",
    "\n",
    "#matrix.to_excel('FINAL_tables/matrix.xlsx')\n",
    "#matrix_filled.to_excel('FINAL_tables/matrix_filled.xlsx')"
   ]
  },
  {
   "cell_type": "code",
   "execution_count": 78,
   "metadata": {},
   "outputs": [
    {
     "data": {
      "text/html": [
       "<div>\n",
       "<style scoped>\n",
       "    .dataframe tbody tr th:only-of-type {\n",
       "        vertical-align: middle;\n",
       "    }\n",
       "\n",
       "    .dataframe tbody tr th {\n",
       "        vertical-align: top;\n",
       "    }\n",
       "\n",
       "    .dataframe thead th {\n",
       "        text-align: right;\n",
       "    }\n",
       "</style>\n",
       "<table border=\"1\" class=\"dataframe\">\n",
       "  <thead>\n",
       "    <tr style=\"text-align: right;\">\n",
       "      <th>sample_name</th>\n",
       "      <th>V00H9L</th>\n",
       "      <th>V010T4</th>\n",
       "      <th>V03HFT</th>\n",
       "      <th>V0404P</th>\n",
       "      <th>V04J9U</th>\n",
       "      <th>V04PTT</th>\n",
       "      <th>V04YHL</th>\n",
       "      <th>V05U4U</th>\n",
       "      <th>V08XFS</th>\n",
       "      <th>V0AID4</th>\n",
       "      <th>...</th>\n",
       "      <th>VZGDBV</th>\n",
       "      <th>VZHO9I</th>\n",
       "      <th>VZHXCJ</th>\n",
       "      <th>VZJ5WW</th>\n",
       "      <th>VZK77E</th>\n",
       "      <th>VZOC83</th>\n",
       "      <th>VZQLWU</th>\n",
       "      <th>VZR2LZ</th>\n",
       "      <th>VZWEWM</th>\n",
       "      <th>VZXIHP</th>\n",
       "    </tr>\n",
       "    <tr>\n",
       "      <th>cluster</th>\n",
       "      <th></th>\n",
       "      <th></th>\n",
       "      <th></th>\n",
       "      <th></th>\n",
       "      <th></th>\n",
       "      <th></th>\n",
       "      <th></th>\n",
       "      <th></th>\n",
       "      <th></th>\n",
       "      <th></th>\n",
       "      <th></th>\n",
       "      <th></th>\n",
       "      <th></th>\n",
       "      <th></th>\n",
       "      <th></th>\n",
       "      <th></th>\n",
       "      <th></th>\n",
       "      <th></th>\n",
       "      <th></th>\n",
       "      <th></th>\n",
       "      <th></th>\n",
       "    </tr>\n",
       "  </thead>\n",
       "  <tbody>\n",
       "    <tr>\n",
       "      <th>Collinsella-V05U4U_metabat.78.fa</th>\n",
       "      <td>0</td>\n",
       "      <td>0</td>\n",
       "      <td>0</td>\n",
       "      <td>0</td>\n",
       "      <td>0</td>\n",
       "      <td>0</td>\n",
       "      <td>0</td>\n",
       "      <td>Collinsella-V05U4U_metabat.78.fa</td>\n",
       "      <td>0</td>\n",
       "      <td>0</td>\n",
       "      <td>...</td>\n",
       "      <td>0</td>\n",
       "      <td>0</td>\n",
       "      <td>0</td>\n",
       "      <td>0</td>\n",
       "      <td>0</td>\n",
       "      <td>0</td>\n",
       "      <td>0</td>\n",
       "      <td>0</td>\n",
       "      <td>0</td>\n",
       "      <td>0</td>\n",
       "    </tr>\n",
       "    <tr>\n",
       "      <th>Fusobacterium_A-V05U4U_maxbin.029.fa</th>\n",
       "      <td>0</td>\n",
       "      <td>0</td>\n",
       "      <td>0</td>\n",
       "      <td>0</td>\n",
       "      <td>0</td>\n",
       "      <td>0</td>\n",
       "      <td>0</td>\n",
       "      <td>Fusobacterium_A-V05U4U_maxbin.029.fa</td>\n",
       "      <td>0</td>\n",
       "      <td>0</td>\n",
       "      <td>...</td>\n",
       "      <td>0</td>\n",
       "      <td>0</td>\n",
       "      <td>0</td>\n",
       "      <td>0</td>\n",
       "      <td>0</td>\n",
       "      <td>0</td>\n",
       "      <td>0</td>\n",
       "      <td>0</td>\n",
       "      <td>0</td>\n",
       "      <td>0</td>\n",
       "    </tr>\n",
       "  </tbody>\n",
       "</table>\n",
       "<p>2 rows × 1033 columns</p>\n",
       "</div>"
      ],
      "text/plain": [
       "sample_name                          V00H9L V010T4 V03HFT V0404P V04J9U  \\\n",
       "cluster                                                                   \n",
       "Collinsella-V05U4U_metabat.78.fa          0      0      0      0      0   \n",
       "Fusobacterium_A-V05U4U_maxbin.029.fa      0      0      0      0      0   \n",
       "\n",
       "sample_name                          V04PTT V04YHL  \\\n",
       "cluster                                              \n",
       "Collinsella-V05U4U_metabat.78.fa          0      0   \n",
       "Fusobacterium_A-V05U4U_maxbin.029.fa      0      0   \n",
       "\n",
       "sample_name                                                         V05U4U  \\\n",
       "cluster                                                                      \n",
       "Collinsella-V05U4U_metabat.78.fa          Collinsella-V05U4U_metabat.78.fa   \n",
       "Fusobacterium_A-V05U4U_maxbin.029.fa  Fusobacterium_A-V05U4U_maxbin.029.fa   \n",
       "\n",
       "sample_name                          V08XFS V0AID4  ... VZGDBV VZHO9I VZHXCJ  \\\n",
       "cluster                                             ...                        \n",
       "Collinsella-V05U4U_metabat.78.fa          0      0  ...      0      0      0   \n",
       "Fusobacterium_A-V05U4U_maxbin.029.fa      0      0  ...      0      0      0   \n",
       "\n",
       "sample_name                          VZJ5WW VZK77E  VZOC83 VZQLWU VZR2LZ  \\\n",
       "cluster                                                                    \n",
       "Collinsella-V05U4U_metabat.78.fa          0      0       0      0      0   \n",
       "Fusobacterium_A-V05U4U_maxbin.029.fa      0      0       0      0      0   \n",
       "\n",
       "sample_name                          VZWEWM VZXIHP  \n",
       "cluster                                             \n",
       "Collinsella-V05U4U_metabat.78.fa          0      0  \n",
       "Fusobacterium_A-V05U4U_maxbin.029.fa      0      0  \n",
       "\n",
       "[2 rows x 1033 columns]"
      ]
     },
     "execution_count": 78,
     "metadata": {},
     "output_type": "execute_result"
    }
   ],
   "source": [
    "matrix[matrix['V05U4U'] != 0]"
   ]
  },
  {
   "cell_type": "code",
   "execution_count": 73,
   "metadata": {},
   "outputs": [
    {
     "name": "stderr",
     "output_type": "stream",
     "text": [
      "/var/folders/5j/pvj6k02n3mn9ztpn77vjtfzw0000gn/T/ipykernel_15948/2659166432.py:1: FutureWarning:\n",
      "\n",
      "The default value of numeric_only in DataFrame.corr is deprecated. In a future version, it will default to False. Select only valid columns or specify the value of numeric_only to silence this warning.\n",
      "\n"
     ]
    },
    {
     "data": {
      "text/html": [
       "<div>\n",
       "<style scoped>\n",
       "    .dataframe tbody tr th:only-of-type {\n",
       "        vertical-align: middle;\n",
       "    }\n",
       "\n",
       "    .dataframe tbody tr th {\n",
       "        vertical-align: top;\n",
       "    }\n",
       "\n",
       "    .dataframe thead th {\n",
       "        text-align: right;\n",
       "    }\n",
       "</style>\n",
       "<table border=\"1\" class=\"dataframe\">\n",
       "  <thead>\n",
       "    <tr style=\"text-align: right;\">\n",
       "      <th>sample_name</th>\n",
       "    </tr>\n",
       "    <tr>\n",
       "      <th>sample_name</th>\n",
       "    </tr>\n",
       "  </thead>\n",
       "  <tbody>\n",
       "  </tbody>\n",
       "</table>\n",
       "</div>"
      ],
      "text/plain": [
       "Empty DataFrame\n",
       "Columns: []\n",
       "Index: []"
      ]
     },
     "execution_count": 73,
     "metadata": {},
     "output_type": "execute_result"
    }
   ],
   "source": [
    "matrix.corr()"
   ]
  },
  {
   "attachments": {},
   "cell_type": "markdown",
   "metadata": {},
   "source": [
    "## Network analisys"
   ]
  }
 ],
 "metadata": {
  "kernelspec": {
   "display_name": "Python 3",
   "language": "python",
   "name": "python3"
  },
  "language_info": {
   "codemirror_mode": {
    "name": "ipython",
    "version": 3
   },
   "file_extension": ".py",
   "mimetype": "text/x-python",
   "name": "python",
   "nbconvert_exporter": "python",
   "pygments_lexer": "ipython3",
   "version": "3.9.6"
  }
 },
 "nbformat": 4,
 "nbformat_minor": 2
}
